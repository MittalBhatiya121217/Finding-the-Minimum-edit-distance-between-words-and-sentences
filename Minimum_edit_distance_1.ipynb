{
  "nbformat": 4,
  "nbformat_minor": 0,
  "metadata": {
    "colab": {
      "provenance": []
    },
    "kernelspec": {
      "name": "python3",
      "display_name": "Python 3"
    },
    "language_info": {
      "name": "python"
    }
  },
  "cells": [
    {
      "cell_type": "markdown",
      "source": [
        "# Finding the Minimum edit distance between words and sentences\n",
        "**Instructions**:\n",
        "1. Wherever you are asked to code, insert a text block below your code block and explain what you have coded as per your own understanding.\n",
        "2. If the code is provided by us, execute it, and add below a text block and provide your explanation in your own words.\n",
        "3. Submit both the .ipynb and pdf files to canvas.\n",
        "4. **The similarity score should be less than 15%.**"
      ],
      "metadata": {
        "id": "-V2GZh93OeVA"
      }
    },
    {
      "cell_type": "code",
      "source": [
        "import numpy as np"
      ],
      "metadata": {
        "id": "t24bokmrJnCg"
      },
      "execution_count": null,
      "outputs": []
    },
    {
      "cell_type": "markdown",
      "source": [
        "Here, we are importing numpy libraries which is used for arrays.Numpy is most used for numeric calculations mean,median and range etc."
      ],
      "metadata": {
        "id": "3bisfM-vjfRs"
      }
    },
    {
      "cell_type": "markdown",
      "source": [
        "##Task - 1 (10 points)\n",
        "Can you give an example of a real-world application where minimum edit distance is used to solve a problem in NLP?What are some limitations or drawbacks of using minimum edit distance in NLP?"
      ],
      "metadata": {
        "id": "g4athzIrHd5A"
      }
    },
    {
      "cell_type": "markdown",
      "source": [
        "##your answer here\n",
        "**Minimum edit distance :** minimum edit distance is the process of calculate distance between two string and minimum number of operation needs to done for convert one string into another string. for calculating minimum edit distance we are doung insertion, deletion, substitution.\n",
        "\n",
        "**Applications of minimum edit distance :**\n",
        "For minimum edit distance in computational biology and natural language processing. For instance the correction of spelling mistakes and ocr error and string matching where the main objective is to find matching of short string from the long text.\n",
        "The application for minimum edit distance is approximate string matching, spelling correction and similarity of DNA.\n",
        "\n",
        "**Drawbacks of application for minimum edit distance :**\n",
        "The minimum edit distance has a one limitation, is that its penalize every time when the character is chage in order.\n",
        "\n",
        "The another drawback of the minimum edit distance is when the character is not match then its need to be done 3 iteration and the cost of that is 3 or more so the main drawback is the cost of minimum edit distance is increased.\n"
      ],
      "metadata": {
        "id": "gn-gLMe2Jeqc"
      }
    },
    {
      "cell_type": "markdown",
      "source": [
        "\n",
        "# Character Based Text Similarity\n",
        "Character-based Similarity is also called sequence-based or edit distance (ED) measurement. It takes two strings of characters and then calculates the edit distance (including insertion, deletion and substitution) between them. Character-based quantifies character similarity between two strings to\n",
        "quantify the similarity, for instance edit distance which is the minimum number of single-character edit operations needed to transform one to another.\n",
        "\"As an example, this technology is used by information retrieval systems, search engines, automatic indexing systems, text summarizers, categorization systems, plagiarism checkers, speech recognition, rating systems, DNA analysis, and profiling algorithms (IR/AI programs to automatically link data between people and what they do).\"\n"
      ],
      "metadata": {
        "id": "WcgRFrk2Jvw-"
      }
    },
    {
      "cell_type": "markdown",
      "source": [
        "##Tutorial - 1"
      ],
      "metadata": {
        "id": "LSYmzyxhOp4m"
      }
    },
    {
      "cell_type": "code",
      "execution_count": null,
      "metadata": {
        "colab": {
          "base_uri": "https://localhost:8080/"
        },
        "id": "z6oeMsgoHdT6",
        "outputId": "d3c59dcf-88ed-427a-b499-fc2b7a246e45"
      },
      "outputs": [
        {
          "output_type": "stream",
          "name": "stdout",
          "text": [
            "5\n"
          ]
        }
      ],
      "source": [
        "# A Naive recursive Python program to find minimum number\n",
        "# operations to convert str1 to str2\n",
        "\n",
        "\n",
        "def editDistance(str1, str2, m, n):\n",
        "\n",
        "\t# If first string is empty, the only option is to\n",
        "\t# insert all characters of second string into first\n",
        "\tif m == 0:\n",
        "\t\treturn n\n",
        "\n",
        "\t# If second string is empty, the only option is to\n",
        "\t# remove all characters of first string\n",
        "\tif n == 0:\n",
        "\t\treturn m\n",
        "\n",
        "\t# If last characters of two strings are same, nothing\n",
        "\t# much to do. Ignore last characters and get count for\n",
        "\t# remaining strings.\n",
        "\tif str1[m-1] == str2[n-1]:\n",
        "\t\treturn editDistance(str1, str2, m-1, n-1)\n",
        "\n",
        "\t# If last characters are not same, consider all three\n",
        "\t# operations on last character of first string, recursively\n",
        "\t# compute minimum cost for all three operations and take\n",
        "\t# minimum of three values.\n",
        "\treturn 1 + min(editDistance(str1, str2, m, n-1), # Insert\n",
        "\t\t\t\teditDistance(str1, str2, m-1, n), # Remove\n",
        "\t\t\t\teditDistance(str1, str2, m-1, n-1) # Replace\n",
        "\t\t\t\t)\n",
        "\n",
        "\n",
        "# Driver code\n",
        "str1 = \"intention\"\n",
        "str2 = \"execution\"\n",
        "print (editDistance(str1, str2, len(str1), len(str2)))"
      ]
    },
    {
      "cell_type": "markdown",
      "source": [
        "##Tutorial Explanation:\n",
        "Here, we are trying to find the minimum edit distance for finding between two strings and convert string 1 into string 2.\n",
        "\n",
        "**def editDistance(str1, str2, m, n):** This is main function which is used for calculating edit minimum distance for converting  string 1 into string 2.\n",
        "\n",
        "After that we are checking that string 1 is not empty or  if its empty we are filling up the string 1 as well as we are checking string 2 and remove all characters of string 1 from string 2.\n",
        "Now, we are checking that if last character of string 1 and string 2 is matching then there is no need to do more.now, only focus on the first part of the string 2.\n",
        "Finally, we are doing to Insert, Delete and Substitution in the string 2. At the last we are providing two strings for output and printing the main function and printing the minimum distance for converting string 1 into string 2.\n",
        "\n",
        "In conclusion, here we provide string 1 =\"intention\" and string 2=\"execution\".In this the last part of the  two strings \"tion\" is same so we don't need to do anything just need to focus on the first part of the strings. We are converting string 1 \"inten\" into string 2 \"execu\". Finnaly, we got the minimum edit distance is \"5\"."
      ],
      "metadata": {
        "id": "sbqnFqICTsh1"
      }
    },
    {
      "cell_type": "markdown",
      "source": [
        "##Task-2(15 points)\n",
        "Write a function to calculate the minimum edit distance between two lists of integers using the insertion, deletion, and substitution operations. Test the function with the lists [1, 2, 3, 4] and [2, 3, 5] and obtain the output"
      ],
      "metadata": {
        "id": "tR0Wr7AASg9a"
      }
    },
    {
      "cell_type": "code",
      "source": [
        "##your code here\n",
        "# A Naive recursive Python program to find minimum number\n",
        "# operations to convert str1 to str2\n",
        "\n",
        "\n",
        "def editDistance(str1, str2, m, n):\n",
        "\n",
        "\t# If first string is empty, the only option is to\n",
        "\t# insert all characters of second string into first\n",
        "\tif m == 0:\n",
        "\t\treturn n\n",
        "\n",
        "\t# If second string is empty, the only option is to\n",
        "\t# remove all characters of first string\n",
        "\tif n == 0:\n",
        "\t\treturn m\n",
        "\n",
        "\t# If last characters of two strings are same, nothing\n",
        "\t# much to do. Ignore last characters and get count for\n",
        "\t# remaining strings.\n",
        "\tif str1[m-1] == str2[n-1]:\n",
        "\t\treturn editDistance(str1, str2, m-1, n-1)\n",
        "\n",
        "\t# If last characters are not same, consider all three\n",
        "\t# operations on last character of first string, recursively\n",
        "\t# compute minimum cost for all three operations and take\n",
        "\t# minimum of three values.\n",
        "\treturn 1 + min(editDistance(str1, str2, m, n-1), # Insert\n",
        "\t\t\t\teditDistance(str1, str2, m-1, n), # Remove\n",
        "\t\t\t\teditDistance(str1, str2, m-1, n-1) # Replace\n",
        "\t\t\t\t)\n",
        "\n",
        "\n",
        "# Driver code\n",
        "str1 = \" [1, 2, 3, 4] \"\n",
        "str2 = \"[2, 3, 5]\"\n",
        "print (editDistance(str1, str2, len(str1), len(str2)))"
      ],
      "metadata": {
        "id": "460w0tsPOvLg",
        "colab": {
          "base_uri": "https://localhost:8080/"
        },
        "outputId": "74805c89-7f55-47ee-c5b3-d93cf596d8a3"
      },
      "execution_count": null,
      "outputs": [
        {
          "output_type": "stream",
          "name": "stdout",
          "text": [
            "6\n"
          ]
        }
      ]
    },
    {
      "cell_type": "markdown",
      "source": [
        "##Explanation:\n",
        "Here, we are trying to find the minimum edit distance for finding between two integer strings and convert string 1 into string 2.\n",
        "\n",
        "def editDistance(str1, str2, m, n): This is main function which is used for calculating minimum edit distance for converting string 1 into string 2.\n",
        "\n",
        "After that we are checking that string 1 is not empty or if its empty we are filling up the string 1 as well as we are checking string 2 and remove all characters of string 1 from string 2. Now, we are checking that if last character of string 1 and string 2 is matching then there is no need to do more.now, only focus on the first part of the string 2. Finally, we are doing to Insert, Delete and Substitution in the string 2. At the last we are providing two strings for output and printing the main function and printing the minimum distance for converting string 1 into string 2.\n",
        "\n",
        "In conclusion, here we provide list string 1 =\"[1,2,3,4]\" and list string 2=\"[2,3,5]\".In this some of the digits are same such as [2,3] and need to delete [1,4] from the list and insert [5]. In this whole processor of applying insertion,deletion and substitution at the last the output for minimum edit distance is \"6\"."
      ],
      "metadata": {
        "id": "bLooDPoSTylw"
      }
    },
    {
      "cell_type": "markdown",
      "source": [
        "##Tutorial - 2\n",
        "\n",
        "# The Levenshtein Distance\n",
        "\n",
        "\"This method was invented in 1965 by the Russian Mathematician Vladimir Levenshtein (1935-2017). The distance value describes the minimal number of deletions, insertions, or substitutions that are required to transform one string (the source) into another (the target). Unlike the Hamming distance, the Levenshtein distance works on strings with an unequal length.\"\n",
        "\n",
        "SOURCE: [Levenshtein Distance and Text Similarity in Python](https://stackabuse.com/levenshtein-distance-and-text-similarity-in-python/)"
      ],
      "metadata": {
        "id": "DWHJhwXGT2OW"
      }
    },
    {
      "cell_type": "code",
      "source": [
        "import numpy as np()\n",
        "seq1 = 'medicine'\n",
        "seq2 = 'medical'\n",
        "\n",
        "# create a matrix\n",
        "size_x = len(seq1) + 1\n",
        "size_y = len(seq2) + 1\n",
        "matrix = np.zeros ((size_x, size_y))\n",
        "matrix"
      ],
      "metadata": {
        "colab": {
          "base_uri": "https://localhost:8080/"
        },
        "id": "MF2ZOHiET1NT",
        "outputId": "651bc9dc-6fad-493a-c69e-9dc627f91e72"
      },
      "execution_count": null,
      "outputs": [
        {
          "output_type": "execute_result",
          "data": {
            "text/plain": [
              "array([[0., 0., 0., 0., 0., 0., 0., 0.],\n",
              "       [0., 0., 0., 0., 0., 0., 0., 0.],\n",
              "       [0., 0., 0., 0., 0., 0., 0., 0.],\n",
              "       [0., 0., 0., 0., 0., 0., 0., 0.],\n",
              "       [0., 0., 0., 0., 0., 0., 0., 0.],\n",
              "       [0., 0., 0., 0., 0., 0., 0., 0.],\n",
              "       [0., 0., 0., 0., 0., 0., 0., 0.],\n",
              "       [0., 0., 0., 0., 0., 0., 0., 0.],\n",
              "       [0., 0., 0., 0., 0., 0., 0., 0.]])"
            ]
          },
          "metadata": {},
          "execution_count": 7
        }
      ]
    },
    {
      "cell_type": "markdown",
      "source": [
        "Here, we are creating matrix for two sequencies x and y.\n",
        "**import numpy :** numpy is the libraries for performing mathematical operation of array.\n",
        "after that we are providing two sequences. sequence 1 is \"medicine\" and sequence 2 is \"medical\".\n",
        "now we are creating matrix for sequences.providing and x and y as a column and rows.\n",
        "len() -  len() function is returned the length of the object.for instance, it will returns the number of items from the list.\n",
        "\n",
        "len(seq1)+1 -  this is returned the length of the sequence 1.\n",
        "len(seq2)+1 - this is returned the length of the sequence 2.\n",
        "\n",
        "np.zeros() - this is used for returned zero values for the given shape or arrays. here, we are using np.zero() for filling matrix of x and y sequences with zeros.\n",
        "\n",
        "In last we print the matrix of zero values for sequences."
      ],
      "metadata": {
        "id": "t7izfXml25Wh"
      }
    },
    {
      "cell_type": "code",
      "source": [
        "# set col numbers (0, n-1)\n",
        "for x in range(size_x):\n",
        "    matrix [x, 0] = x\n",
        "\n",
        "# set row numbers (0, n-1)\n",
        "for y in range(size_y):\n",
        "    matrix [0, y] = y\n",
        "\n",
        "matrix"
      ],
      "metadata": {
        "colab": {
          "base_uri": "https://localhost:8080/"
        },
        "id": "yyDkxxBcok67",
        "outputId": "8993b812-b227-4d68-ae16-2ed06d5a8aeb"
      },
      "execution_count": null,
      "outputs": [
        {
          "output_type": "execute_result",
          "data": {
            "text/plain": [
              "array([[0., 1., 2., 3., 4., 5., 6., 7.],\n",
              "       [1., 0., 0., 0., 0., 0., 0., 0.],\n",
              "       [2., 0., 0., 0., 0., 0., 0., 0.],\n",
              "       [3., 0., 0., 0., 0., 0., 0., 0.],\n",
              "       [4., 0., 0., 0., 0., 0., 0., 0.],\n",
              "       [5., 0., 0., 0., 0., 0., 0., 0.],\n",
              "       [6., 0., 0., 0., 0., 0., 0., 0.],\n",
              "       [7., 0., 0., 0., 0., 0., 0., 0.],\n",
              "       [8., 0., 0., 0., 0., 0., 0., 0.]])"
            ]
          },
          "metadata": {},
          "execution_count": 8
        }
      ]
    },
    {
      "cell_type": "markdown",
      "source": [
        "Here, we are providing column and rows number of x and y.\n",
        "first we start with columns we create a loop for x range up to the length of the x and append the values in columns in range from  0 to length of the sequence.\n",
        "same as columns we are doing for rows creating for loop with y axis and adding range upto the length of the y or sequence and printing the numbers value in the matrix rows.\n",
        "\n",
        "At the last now we have one matrix with the values of columns and rows for two sequences."
      ],
      "metadata": {
        "id": "Cthn21wcY8-I"
      }
    },
    {
      "cell_type": "code",
      "source": [
        "import numpy as np\n",
        "import pandas as pd\n",
        "\n",
        "\n",
        "def levenshtein(seq1, seq2):\n",
        "    # create a matrix\n",
        "    size_x = len(seq1) + 1\n",
        "    size_y = len(seq2) + 1\n",
        "    matrix = np.zeros ((size_x, size_y))\n",
        "\n",
        "    # set col numbers (0, n-1)\n",
        "    for x in range(size_x):\n",
        "        matrix [x, 0] = x\n",
        "\n",
        "    # set row numbers (0, n-1)\n",
        "    for y in range(size_y):\n",
        "        matrix [0, y] = y\n",
        "\n",
        "    # calculate distance\n",
        "    for x in range(1, size_x):\n",
        "        for y in range(1, size_y):\n",
        "            # if characters match do not increase distance\n",
        "            if seq1[x-1] == seq2[y-1]:\n",
        "                matrix [x,y] = matrix[x-1, y-1]\n",
        "            # if characters don't match increase min distance by 1\n",
        "            else:\n",
        "                matrix [x,y] = min(\n",
        "                    matrix[x-1,y] + 1,\n",
        "                    matrix[x-1,y-1] + 1,\n",
        "                    matrix[x,y-1] + 1\n",
        "                )\n",
        "\n",
        "    # print the distance calulation matrix\n",
        "    # list(seq1) converts string into a list of the characters\n",
        "    print(pd.DataFrame(matrix[1:,1:], index=list(seq1), columns=list(seq2)))\n",
        "\n",
        "    return (matrix[size_x - 1, size_y - 1])\n",
        "\n",
        "levenshtein('medicine','medical')"
      ],
      "metadata": {
        "colab": {
          "base_uri": "https://localhost:8080/"
        },
        "id": "1rhFrcfkpPHf",
        "outputId": "84c0ecab-e382-4fbe-9f2b-f45ae8ebc400"
      },
      "execution_count": null,
      "outputs": [
        {
          "output_type": "stream",
          "name": "stdout",
          "text": [
            "     m    e    d    i    c    a    l\n",
            "m  0.0  1.0  2.0  3.0  4.0  5.0  6.0\n",
            "e  1.0  0.0  1.0  2.0  3.0  4.0  5.0\n",
            "d  2.0  1.0  0.0  1.0  2.0  3.0  4.0\n",
            "i  3.0  2.0  1.0  0.0  1.0  2.0  3.0\n",
            "c  4.0  3.0  2.0  1.0  0.0  1.0  2.0\n",
            "i  5.0  4.0  3.0  2.0  1.0  1.0  2.0\n",
            "n  6.0  5.0  4.0  3.0  2.0  2.0  2.0\n",
            "e  7.0  6.0  5.0  4.0  3.0  3.0  3.0\n"
          ]
        },
        {
          "output_type": "execute_result",
          "data": {
            "text/plain": [
              "3.0"
            ]
          },
          "metadata": {},
          "execution_count": 9
        }
      ]
    },
    {
      "cell_type": "markdown",
      "source": [
        "**Levenshtein:**\n",
        "Levenshtein distance is check the text similarity measure and compare two string and return the numeric value representing the distance between them.\n",
        "\n",
        "First of all, for performing this we are importing libraries numpy and pandas.\n",
        "numpy will use for performing the mathematical array. pandas will use for performing data analysis and machine learnign task.\n",
        "Now, we are creating function for performing levenshtein distance and passing arguments for sequence 1 and 2.\n",
        "after that we are creating matrix of x and y with zeros for sequences.\n",
        "\n",
        "len() - len() function is returned the length of the object.for instance, it will returns the number of items from the list.\n",
        "\n",
        "len(seq1)+1 - this is returned the length of the sequence 1. len(seq2)+1 - this is returned the length of the sequence 2.\n",
        "\n",
        "np.zeros() - this is used for returned zero values for the given shape or arrays. here, we are using np.zero() for filling matrix of x and y sequences with zeros.\n",
        "\n",
        "after creating matrix filled with zeros now we are inserting number values of columns and rows in to the matrix based on the length of the sequences.\n",
        "\n",
        "Now, we are calculating the distance between two sequences. First, we create loop for x and y and loop will execute upto the length of the two sequences. Now, we are checking if the character is match there is no need to increased the distance for that we use condition \"if seq1[x-1] == seq2[y-1]: matrix [x,y] = matrix[x-1, y-1] \" which means that if sequence 1 character is same as the sequence 2 then matrix of matrix of x and y leave same as it is.\n",
        "\n",
        "Now, if there is no matching character the increased the distance by 1. for achieving this goal we provide  the calculations for that.\n",
        "\n",
        "after that we are printing the matrix for medicine and medical and printing the levenshtein distance which is \"3.0\".\n"
      ],
      "metadata": {
        "id": "_cAPFaVparK_"
      }
    },
    {
      "cell_type": "code",
      "source": [
        "from IPython.lib.display import YouTubeVideo\n",
        "YouTubeVideo('We3YDTzNXEk')"
      ],
      "metadata": {
        "colab": {
          "base_uri": "https://localhost:8080/",
          "height": 322
        },
        "id": "3CJfe8fYpSlY",
        "outputId": "274d5110-b334-4ded-b01c-b6c3a3ce95f8"
      },
      "execution_count": null,
      "outputs": [
        {
          "output_type": "execute_result",
          "data": {
            "text/plain": [
              "<IPython.lib.display.YouTubeVideo at 0x7fc9bda51e50>"
            ],
            "text/html": [
              "\n",
              "        <iframe\n",
              "            width=\"400\"\n",
              "            height=\"300\"\n",
              "            src=\"https://www.youtube.com/embed/We3YDTzNXEk\"\n",
              "            frameborder=\"0\"\n",
              "            allowfullscreen\n",
              "        ></iframe>\n",
              "        "
            ],
            "image/jpeg": "[encoded data removed]"
          },
          "metadata": {},
          "execution_count": 10
        }
      ]
    },
    {
      "cell_type": "markdown",
      "source": [
        "##Task -3 (15 points)\n",
        "##Compute the Levenshtein distance between two strings.\n",
        "\n",
        "String1 = (\"Glomax\")\n",
        "\n",
        "String2 = (\"Folmax\")"
      ],
      "metadata": {
        "id": "4RzP3U5rpkZ8"
      }
    },
    {
      "cell_type": "code",
      "source": [
        "##your code h\n",
        "import numpy as np\n",
        "import pandas as pd\n",
        "\n",
        "\n",
        "def levenshtein(seq1, seq2):\n",
        "    # create a matrix\n",
        "    size_x = len(seq1) + 1\n",
        "    size_y = len(seq2) + 1\n",
        "    matrix = np.zeros ((size_x, size_y))\n",
        "\n",
        "    # set col numbers (0, n-1)\n",
        "    for x in range(size_x):\n",
        "        matrix [x, 0] = x\n",
        "\n",
        "    # set row numbers (0, n-1)\n",
        "    for y in range(size_y):\n",
        "        matrix [0, y] = y\n",
        "\n",
        "    # calculate distance\n",
        "    for x in range(1, size_x):\n",
        "        for y in range(1, size_y):\n",
        "            # if characters match do not increase distance\n",
        "            if seq1[x-1] == seq2[y-1]:\n",
        "                matrix [x,y] = matrix[x-1, y-1]\n",
        "            # if characters don't match increase min distance by 1\n",
        "            else:\n",
        "                matrix [x,y] = min(\n",
        "                    matrix[x-1,y] + 1,\n",
        "                    matrix[x-1,y-1] + 1,\n",
        "                    matrix[x,y-1] + 1\n",
        "                )\n",
        "\n",
        "    # print the distance calulation matrix\n",
        "    # list(seq1) converts string into a list of the characters\n",
        "    print(pd.DataFrame(matrix[1:,1:], index=list(seq1), columns=list(seq2)))\n",
        "\n",
        "    return (matrix[size_x - 1, size_y - 1])\n",
        "levenshtein('Glomax','Folmax')\n"
      ],
      "metadata": {
        "id": "TVXosXzIphLC",
        "colab": {
          "base_uri": "https://localhost:8080/"
        },
        "outputId": "30293506-0683-4d3a-c4ea-4c4bdd4ca4f1"
      },
      "execution_count": null,
      "outputs": [
        {
          "output_type": "stream",
          "name": "stdout",
          "text": [
            "     F    o    l    m    a    x\n",
            "G  1.0  2.0  3.0  4.0  5.0  6.0\n",
            "l  2.0  2.0  2.0  3.0  4.0  5.0\n",
            "o  3.0  2.0  3.0  3.0  4.0  5.0\n",
            "m  4.0  3.0  3.0  3.0  4.0  5.0\n",
            "a  5.0  4.0  4.0  4.0  3.0  4.0\n",
            "x  6.0  5.0  5.0  5.0  4.0  3.0\n"
          ]
        },
        {
          "output_type": "execute_result",
          "data": {
            "text/plain": [
              "3.0"
            ]
          },
          "metadata": {},
          "execution_count": 15
        }
      ]
    },
    {
      "cell_type": "markdown",
      "source": [
        "##your explanation\n",
        "\n",
        "Levenshtein : * Levenshtein distance is check the text similarity measure and compare two string and return the numeric value representing the distance between them.\n",
        "\n",
        "First of all, for performing this we are importing libraries numpy and pandas. numpy will use for performing the mathematical array. pandas will use for performing data analysis and machine learnign task. Now, we are creating function for performing levenshtein distance and passing arguments for sequence 1 and 2. after that we are creating matrix of x and y with zeros for sequences.\n",
        "\n",
        "len() - len() function is returned the length of the object.for instance, it will returns the number of items from the list.\n",
        "\n",
        "len(seq1)+1 - this is returned the length of the sequence 1. len(seq2)+1 - this is returned the length of the sequence 2.\n",
        "\n",
        "np.zeros() - this is used for returned zero values for the given shape or arrays. here, we are using np.zero() for filling matrix of x and y sequences with zeros.\n",
        "\n",
        "after creating matrix filled with zeros now we are inserting number values of columns and rows in to the matrix based on the length of the sequences.\n",
        "\n",
        "Now, we are calculating the distance between two sequences. First, we create loop for x and y and loop will execute upto the length of the two sequences. Now, we are checking if the character is match there is no need to increased the distance for that we use condition \"if seq1[x-1] == seq2[y-1]: matrix [x,y] = matrix[x-1, y-1] \" which means that if sequence 1 character is same as the sequence 2 then matrix of matrix of x and y leave same as it is.\n",
        "\n",
        "Now, if there is no matching character the increased the distance by 1. for achieving this goal we provide the calculations for that.\n",
        "\n",
        "In conclude, we are using the levenshtein distance for calculating distance and\n",
        "at the last we are printing the matrix for Glomax and Folmax and printing the levenshtein distance which is \"3.0\"."
      ],
      "metadata": {
        "id": "2r2-SMkGwT7N"
      }
    },
    {
      "cell_type": "markdown",
      "source": [
        "##Tutorial -3\n",
        "##Backtrace for computing alignment\n",
        "In natural language processing (NLP), alignment refers to the process of finding correspondences between elements of text. This can be useful in a variety of applications, including machine translation and information retrieval.\n",
        "\n",
        "Backtrace is a common algorithm used for computing alignments between sequences of text. The basic idea behind backtrace is to work backwards from the end of the sequences, identifying the best alignment between each pair of characters or words.\n",
        "\n",
        "Here's a step-by-step overview of how backtrace works for computing alignment in NLP:\n",
        "\n",
        "Input: Given two sequences of text to be aligned, sequence A and sequence B.\n",
        "\n",
        "Initialization: Create a matrix with dimensions (length of A + 1) x (length of B + 1). Each cell in the matrix will represent the cost of aligning a character or word from sequence A with a character or word from sequence B. The first row and first column are initialized with 0s.\n",
        "\n",
        "Fill the matrix: For each cell in the matrix (excluding the first row and first column), calculate the cost of aligning the corresponding characters or words from sequence A and sequence B. The cost can be based on various factors, such as the similarity of the characters or words, or the distance between them in a semantic space. Once the cost is calculated, set the value of the cell to the cost.\n",
        "\n",
        "Backtrace: Starting from the bottom-right corner of the matrix, find the optimal path to the top-left corner. This can be done by following the path with the lowest cost, and making diagonal, vertical, or horizontal moves. As you traverse the path, record the alignments between the characters or words in sequence A and sequence B.\n",
        "\n",
        "Output: The final output of the backtrace algorithm is the optimal alignment between the two sequences, as well as the cost of the alignment.\n",
        "\n",
        "Backtrace is a dynamic programming algorithm that can be used to efficiently compute alignments between sequences of any length. However, the cost function used in step 3 can greatly affect the quality of the alignment, so choosing an appropriate cost function is important for achieving good results."
      ],
      "metadata": {
        "id": "hOJUOkxSwW7J"
      }
    },
    {
      "cell_type": "markdown",
      "source": [
        "Example  "
      ],
      "metadata": {
        "id": "hc-idEu1neyQ"
      }
    },
    {
      "cell_type": "code",
      "source": [
        "# A Python program to find optimal alignment between sequences A=\"AGTC\" AND B=\"AGTC\" using the cost function\n",
        "#For a match, the cost is 0.\n",
        "#For a mismatch, the cost is 1\n",
        "#For an insertion or deletion, the cost is 2.\n",
        "def backtrace_alignment(A, B):\n",
        "    m = len(A)\n",
        "    n = len(B)\n",
        "    cost = [[0 for j in range(n+1)] for i in range(m+1)]\n",
        "    for i in range(1, m+1):\n",
        "        cost[i][0] = cost[i-1][0] + 2\n",
        "    for j in range(1, n+1):\n",
        "        cost[0][j] = cost[0][j-1] + 2\n",
        "    for i in range(1, m+1):\n",
        "        for j in range(1, n+1):\n",
        "            if A[i-1] == B[j-1]:\n",
        "                cost[i][j] = cost[i-1][j-1]\n",
        "            else:\n",
        "                cost[i][j] = min(cost[i-1][j-1] + 1, cost[i-1][j] + 2, cost[i][j-1] + 2)\n",
        "    align_A = \"\"\n",
        "    align_B = \"\"\n",
        "    i = m\n",
        "    j = n\n",
        "    while i > 0 or j > 0:\n",
        "        if i > 0 and j > 0 and A[i-1] == B[j-1]:\n",
        "            align_A = A[i-1] + align_A\n",
        "            align_B = B[j-1] + align_B\n",
        "            i -= 1\n",
        "            j -= 1\n",
        "        elif i > 0 and cost[i][j] == cost[i-1][j] + 2:\n",
        "            align_A = A[i-1] + align_A\n",
        "            align_B = \"-\" + align_B\n",
        "            i -= 1\n",
        "        else:\n",
        "            align_A = \"-\" + align_A\n",
        "            align_B = B[j-1] + align_B\n",
        "            j -= 1\n",
        "    return align_A, align_B, cost[m][n]\n",
        "\n",
        "A = \"ACGTC\"\n",
        "B = \"AGTC\"\n",
        "align_A, align_B, cost = backtrace_alignment(A, B)\n",
        "print(\"Sequence A: \", align_A)\n",
        "print(\"Sequence B: \", align_B)\n",
        "print(\"Alignment Cost: \", cost)\n"
      ],
      "metadata": {
        "colab": {
          "base_uri": "https://localhost:8080/"
        },
        "id": "JNpfQS_nwV6V",
        "outputId": "3c7f607c-cb27-475d-ecd4-fc5c0173f61a"
      },
      "execution_count": null,
      "outputs": [
        {
          "output_type": "stream",
          "name": "stdout",
          "text": [
            "Sequence A:  ACGTC\n",
            "Sequence B:  A-GTC\n",
            "Alignment Cost:  2\n"
          ]
        }
      ]
    },
    {
      "cell_type": "markdown",
      "source": [
        "Here, we are doing backtrace alignment. backtrace alignment is character is tracing from bottom right corner to find the optimal path of left top corner.\n",
        "\n",
        "**backtace_alignment()** -  backtrace algorithm is used for trace a path through a minimum edit distance to help us to optimally align substrings. this is used for tracing the path of minimum edit distance for the optimal align substring. we are passing the two parameters for two string A and B.\n",
        "**m = len(A)** - this is used for creating variable m for assigning the length of the string A.\n",
        "**n = len(B)** - this is used for creating variable n for assigning the length of the string B.\n",
        "Now, we are creating for loop for columns and rows for calculating cost of minimum edit distance.\n",
        "we set the conditions for For a matching string , the cost is 0.For a mismatching the character, the cost is 1.For an insertion or deletion of string, the cost is 2.\n",
        "After that we are providing the alignment for i and j, columns and rows and calculating the cost for the minimum edit distances.\n",
        "now we are providing two strings are A = \"ACGTC\" and B = \"AGTC\" now we are using the backtrace alignment for align_A, align_B, cost = backtrace_alignment(A, B) and printng the cost for that. Now, at the last we are printing the sequence A and B and printing the Alignment cost.\n",
        "\n",
        "In conclude, the output is Sequence A:  ACGTC convert into Sequence B:  A-GTC\n",
        "and at the last calculating the minimum edit distance for backtrace alignment final Alignment Cost is :  2"
      ],
      "metadata": {
        "id": "KdpKcyUoghHO"
      }
    },
    {
      "cell_type": "markdown",
      "source": [
        "##Task-4(20 points)\n",
        "Given the two sequences A = \"AGTTCGTA\" and B = \"ACGTCA\", compute the optimal alignment using the following cost function:\n",
        "\n",
        "For a match, the cost is 0.\n",
        "\n",
        "For a mismatch, the cost is 1.\n",
        "\n",
        "For an insertion, the cost is 2.\n",
        "\n",
        "For a deletion, the cost is 1."
      ],
      "metadata": {
        "id": "C9t_kAmdp7Ep"
      }
    },
    {
      "cell_type": "code",
      "source": [
        "##Your code here\n",
        "def needleman_wunsch(seq1, seq2):\n",
        "# initialize the scoring matrix and the traceback matrix\n",
        "  n = len(seq1)\n",
        "  m = len(seq2)\n",
        "  score = [[0 for j in range(m+1)] for i in range(n+1)]\n",
        "  traceback = [[0 for j in range(m+1)] for i in range(n+1)]\n",
        "  for i in range(n+1):\n",
        "    score[i][0] = i*2\n",
        "  for j in range(m+1):\n",
        "    score[0][j] = j*2\n",
        "\n",
        "# fill in the rest of the scoring matrix and the traceback matrix\n",
        "  for i in range(1, n+1):\n",
        "    for j in range(1, m+1):\n",
        "        match = score[i-1][j-1] + (0 if seq1[i-1] == seq2[j-1] else 1)\n",
        "        delete = score[i-1][j] + 1\n",
        "        insert = score[i][j-1] + 2\n",
        "        score[i][j] = min(match, delete, insert)\n",
        "        if score[i][j] == match:\n",
        "            traceback[i][j] = 0\n",
        "        elif score[i][j] == delete:\n",
        "            traceback[i][j] = 1\n",
        "        else:\n",
        "            traceback[i][j] = 2\n",
        "\n",
        "# perform the traceback to get the aligned sequences and the alignment score\n",
        "  aligned1 = \"\"\n",
        "  aligned2 = \"\"\n",
        "  i = n\n",
        "  j = m\n",
        "  while i > 0 or j > 0:\n",
        "    if traceback[i][j] == 0:\n",
        "        aligned1 = seq1[i-1] + aligned1\n",
        "        aligned2 = seq2[j-1] + aligned2\n",
        "        i -= 1\n",
        "        j -= 1\n",
        "    elif traceback[i][j] == 1:\n",
        "        aligned1 = seq1[i-1] + aligned1\n",
        "        aligned2 = \"-\" + aligned2\n",
        "        i -= 1\n",
        "    else:\n",
        "        aligned1 = \"-\" + aligned1\n",
        "        aligned2 = seq2[j-1] + aligned2\n",
        "        j -= 1\n",
        "  score = score[n][m]\n",
        "\n",
        "  return(aligned1, aligned2, score)\n",
        "\n",
        "seq1 = \"AGTTCGTA\"\n",
        "seq2 = \"ACGTCA\"\n",
        "aligned1, aligned2, score = needleman_wunsch(seq1, seq2)\n",
        "print(\"Sequence 1: \",aligned1)\n",
        "print(\"Sequence 2: \",aligned2)\n",
        "print(\"Alignment score:\", score)"
      ],
      "metadata": {
        "id": "Pxklrg6ppzvT",
        "colab": {
          "base_uri": "https://localhost:8080/"
        },
        "outputId": "2456a64b-a96f-46b1-bb5e-7ffcbb98e3b0"
      },
      "execution_count": null,
      "outputs": [
        {
          "output_type": "stream",
          "name": "stdout",
          "text": [
            "Sequence 1:  AGTTCGTA\n",
            "Sequence 2:  ACGTC--A\n",
            "Alignment score: 4\n"
          ]
        }
      ]
    },
    {
      "cell_type": "markdown",
      "source": [
        "##Explanation\n",
        "Here, we are using needleman wunsch algorithm for doing alignment of matrix for finding optimal path with minimum edit distance.\n",
        "\n",
        "The Needleman-Wunsch algorithm creates a matrix for scores for each subalignment, and finds the optimal alignment by tracing back through the maximum scores.\n",
        "\n",
        "**def needleman_wunsch(seq1,seq2) - ** this is used for creating matrix for score for optimal path finding with minimum distance cost. we are passing the two parameters sequence 1 and sequence 2.\n",
        "\n",
        "now we are calculating the length of the sequence 1 and 2 and assigning the values in the variable m and n. calculating score and create score matrix and using traceback checking the matrix is there somethign wrong in the matrix and columns and rows.we are using for loop for columns and rows and iterate loop upto the length of the two sequences.we are calculating score and use traceback for tracing the optimal path of highest score of the  matrix.\n",
        "\n",
        "now, we are creating calculating alignments for columns and rows and start finding the optimal path from bottom right corner to top left corner and find the optimal path with minimum edit distance.\n",
        "\n",
        "now we are presenting the sequences. here sequence 1 = \"AGTTCGTA\"\n",
        "and sequence 2 = \"ACGTCA\" and now we are calculating the alignments and calculate the score using the needleman wunsch and passing the arguments of sequence 1 and sequence 2.for instance, aligned1, aligned2, score = needleman_wunsch(seq1, seq2) and now print the sequence 1\n",
        "print(\"Sequence 1: \",aligned1) and print sequence 2\n",
        "print(\"Sequence 2: \",aligned2) at the last we are printing the alignment score\n",
        "print(\"Alignment score:\", score).\n",
        "\n",
        "In summarize, we are using needleman wunsch algorithm to find the optimal path solution for matrix with minimum edit distance. at the last the alignment score is 4."
      ],
      "metadata": {
        "id": "BwPZgZCwqLGi"
      }
    },
    {
      "cell_type": "markdown",
      "source": [
        "##Tutorial - 4\n",
        "# Needleman Wunsch alignment\n",
        "\n",
        "## Flavors of Sequence Alignment: Global vs. Local Alignment\n",
        "\n",
        "Sequence alignment comes in several different flavors or varieties:\n",
        "\n",
        "**Global sequence alignment** assumes two sequences are homologous (or share a common evolutionary ancestor) across their whole length. It tries to line up the whole thing, from tail to snout. This might be a reasonable assumption for two genes in the same gene family, for instance.\n",
        "\n",
        "**Local sequence alignment** assumes that there are regions of homology within a bigger sequence, but also regions that do not share common ancestry. This might be a reasonable assumption if checking how many genes two species share. If the species aren't extremely closely related, we would expect that they would share certain genes, but also that there should be large portions of the genome that do not share detectable evolutionary ancestry between the two species (due to large insertions, deletions, inversions or rearrangements).\n",
        "\n",
        "Alignment methods can also be **pairwise** methods, in which two sequences are aligned or **multiple sequence alignments** in which many sequences are aligned together (e.g. all the amino-acyl tRNA synthetase genes in mammals).\n",
        "\n",
        "In this chapter we will focus first on global alignment. However, once you understand global alignment in detail, the algorithm for local alignment is similar enough that you can understand that as well, with just a little extra effort.\n",
        "\n",
        "In **pairwise global sequence alignment** we begin with two sequences. These can be DNA, RNA or amino acid sequences. For simplicity, let's focus at first on pairwise global alignment of DNA sequences.\n",
        "\n",
        "We'll assume that the full length of our two sequences are homologous, but may contain *insertions* or *deletions* of nucleotides that have caused the homologous positions not to line up with each other. Therefore, our goal is to 'align' or line up these homologous positions in the sequences by adding '-' characters to certain places in each sequence.  These '-' characters will represent places where the two nucleotide sequences become offset from one another (and therefore stop lining up) due to either an extra nucleotide inserted into one, or a nucleotide deleted from the other.\n",
        "\n",
        "Here's an example. Let's start with two unaligned DNA sequences: `AAAATATTGG` and `TCCTATGG`. If we try to compare sequence identity between these sequences without alignment, we won't see a high level of sequence similarity:\n",
        "\n",
        "`AAAATATTGG` <br>\n",
        "`TCCTATGG`\n",
        "\n",
        "Indeed, if you compare the nulceotides that line up, you'll see that *none* of them match. If we wanted to formalize this, we could calculate the Hamming Distance between the two sequences (just 1 - the fraction of matching items), and we would find a distance of 1.0.\n",
        "\n",
        "Yet it is probably clear that the sequences have many similarities. If we upload these sequences to a pairwise global alignment web tool (like the EMBOSS one at [EBI](https://www.ebi.ac.uk/Tools/services/web/toolresult.ebi?jobId=emboss_needle-I20201212-184827-0832-96343451-p1m)), we might get a result that looks something like this:\n",
        "\n",
        "`EMBOSS_001         1 AAAATAT----TGG     10\n",
        "                           |    |||\n",
        "EMBOSS_001         1 ------TCCTATGG      8`\n",
        "\n",
        "From a pairswise alignment alone, we can't distinguish whether '-' characters represent insertion in the sequence without the '-' or deletion in the sequence with the '-'. For this reason '-' characters are called *gaps* or *indels* (short for *in*sertion **or** *del*etion)."
      ],
      "metadata": {
        "id": "l3icHiZYqOQa"
      }
    },
    {
      "cell_type": "markdown",
      "source": [
        "#### Understanding the Needleman-Wunsch algorithm\n",
        "\n",
        "Before we write code to accomplish a task, it's critical that we understand exactly what we are trying to do. For most algorithms, that means it is extremely important that we work a couple examples by hand before we try to code them. This might seem like extra work, but in fact saves **a ton** of time in the long run.\n",
        "\n",
        "Therefore, before we try to write code to do Needleman-Wunsch alignment, we're going to practice doing it by hand. Don't worry - after the first row or two it will become clear - even obvious - how to do the algorithm.\n",
        "\n",
        "> **Coding tip for complex code:** If you take the time to really experiment with each python data structure and understand how it works, and take the time to do an algorithm by hand so you understand how it works, and if you build your code step by step in small pieces that you can check as you go, then even very complex algorithms become much easier to put together.\n",
        "\n",
        "#### Performing the Needleman-Wunsch algorithm by hand\n",
        "\n",
        "Grab a piece of paper and a pen. We're going to read the Needleman-Wunsch algorithm description and implement it for a simple example on paper.\n",
        "\n",
        "##### Settle on a scoring scheme\n",
        "First, we need to settle on a scoring scheme that is based on how much we want to penalize insertion of indels ('-') vs. substitions (e.g. A --> G). We can choose to score all substitutions equally, or assign a different score to some substitutions (e.g. to reflect that biologically transitions are much more common than transversions). Generally, the more common insertions or deletions are biologically, the lower the gap penalty should be. Similarly, the more common substitutions are, the lower the substitution penalty should be. For simplicity in this example, we will use a very simple scoring scheme:\n",
        "\n",
        "- *Gap penalty* = -1\n",
        "- *Match bonus (all matches)* = 1\n",
        "- *Mismatch penalty (all substitutions)* = -1\n",
        "\n",
        "\n",
        "###### Draw a table representing possible alignments\n",
        "Next, we need to draw two tables in which the nucleotides of sequence 1 are on the left side (i.e. they are the row labels) and the nucleotides of sequence 2 are on the top (i.e. they are the column labels). The first will be our 'score matrix' where we keep track of the best possible way to get to the point where each pair of nucletides line up. The second will be our traceback matrix, where we record the set of steps that got us to that optimal score. One trick is that we will have an extra gap ('-') character before each sequence (so the number of rows be one more than the length of sequence 1, and the number of columns will be one more than the length of sequence 2. At the end we will be able to walk back through the traceback matrix to get our optimal alignment.\n",
        "\n",
        "Here's an example of how the scoring matrix might look at the start of the algorithm:\n",
        "\n",
        "\n",
        "\n",
        "<img src=\"https://drive.google.com/uc?export=view&id=1IcgvloBPiE6FPeWKQwOaIeI6KZVZ7GO0\" width=\"400\" align=\"center\"  description=\"The image shows a table formed from the DNA sequence G C A T G C T on the x-axis (each column corresponds to one letter) and the sequence G A T T A C A on the y-axis. There is one extra blank row or column before each sequence. At this step, the table is blank. The two sequences are rainbow colored, with each nucleotide being a different color.\">"
      ],
      "metadata": {
        "id": "uhAT7IYmrbqC"
      }
    },
    {
      "cell_type": "markdown",
      "source": [
        "#### Intuition behind the layout of the scoring matrix\n",
        "\n",
        "One key insight of the Needleman-Wunsch alignment is that all the possible alignments of two sequences from left to right can be represented on this table as paths between the upper left of the table and the lower right of the table.\n",
        "\n",
        "**Meaning of diagonal moves.** If we start in the upper left corner and proceed digonally down the table, that represents an alignment in which we only use *substitutions* (mutations that change one nucleotide into another) to explain the differences between the two sequences.\n",
        "\n",
        "In our specific example, this would mean an alignment that looks like this:\n",
        "\n",
        "`1 GCATGCT     7\n",
        "   |  |\n",
        " 1 GATTACA     7\n",
        "`<br>\n",
        "This is a pretty bad alignment (only 2 matches and 5 mismatches). We'll improve on it in a moment, but can you see how the row/column labels you would encounter if you go from top left to bottom right in the table correspond to this alignment? If not, it may be worth trying it by hand step-by-step: the first cell you'd enter in the top left would have a G in both the row and the column. That represents the match between the G's in the top and bottom sequence in the alignment above. The next step would have a C in the column but an A in the row. That would represent the mismatch between C and A in the second position of the alignment. Mistmatches like this indicate that during evolution either the ancestor was a C and one sequence had a C --> A substitution in the bottom sequence, or the ancestor was an A and there was an A--> C substitution in the top sequence.\n",
        "\n",
        "\n",
        "More generally, any diagonal move we make in heading from the start to the end of the sequence means we are asserting that two nucleotides are homologous (share the same evolutionary origin) and are 'the same thing'. This type of move will improve the alignment score if the nucleotides are the same, but make it worse if they are different.\n",
        "\n",
        "**Meaning of moves to the right**\n",
        "Let's say after starting in the upper-left of the table we took one step to the right, *and then* proceeded as before to travel diagonally down the table. What would that mean for our alignment? If you try this with your finger on the table above, you'll see that the first cell you reach has column label G and now row label. This would indicate that the first G in our first sequence is paired with nothing ('-') in our second sequence. Biologically, this would indicate that the ancestral sequence either had a G and it was lost in the bottom sequence (a deletion) or that the G was added by mutation into the top sequence (an insertion). Now move your finger down and to the right. The next cell you encounter is no longer a pairing of G with G (as before) but now a pairing of the first G in the bottom sequence with the C in position 2 of the top sequence. Effectively, all our other pairings will be 'offset' by 1 due to the insertion in the left sequence.  This will change which positions look like matches vs. mismatches. The alignment corresponding to this 'horizontal 1 then diagonal' path would look like this:\n",
        "\n",
        "`1 GCATGCT-     8\n",
        "      |\n",
        " 1 -GATTACA     8\n",
        "`\n",
        "\n",
        "**Meaning of moves down**\n",
        "\n",
        "Just as moves to the right insert indel ('-') characters into the left (rows) sequence, moves down insert indel characters into the top (columns) sequence.\n",
        "\n",
        "> Needleman-Wunsch alignment represents all possible alignments of two sequences using a table. Any set of right, down or diagonal down and to the right moves represents a possible alignment of the two sequences. Diagonal paths represent matches or mismatches. Moves to the right insert an indel character into the second (rows) sequence, while moves down insert an indel character into the first (columns) sequence. Any move right or down changes which nucleotides match or mismatch in subsequent diagonal moves.\n",
        "\n",
        "\n"
      ],
      "metadata": {
        "id": "Lb-RAzDxri7t"
      }
    },
    {
      "cell_type": "markdown",
      "source": [
        "## Step 2. Score  the first cell\n",
        "\n",
        "We will now fill in scores in the first row, working from left to right, following a couple of simple rules. Let's start with the first cell, with the G's on the columns and rows. We'll talk in depth about the rules for how to score this cell, then you can practice it on later cells.\n",
        "\n",
        "#### Calculate scores for the 3 possible moves that can lead to this cell\n",
        "\n",
        "For each cell we need to calculate 3 values, representing the 3 possible moves (down, right, or diagonal) that can get us to the current cell, to figure out which has the highest score and therefore the best path through the alignment to this spot. Let's do this one by one for the first cell.\n",
        "\n",
        "First let's calculate the score to get to the cell using a **down** move. This score will be equal to the score in the cell above plus the gap penalty. So for our first cell, the score above is -1, and the gap penalty is -1. So if we got to this spot by a down move (inserting an indel into the left sequence), the score would be -2.\n",
        "\n",
        "A move **to the right** also represents insertion of an indel. If our top left position was reached by such a move, it would have a score of -1 (the score in the cell to the left of our current cell) + the gap penalty of -1. So it would have a score of -2.\n",
        "\n",
        "Finally, the score could have been produced by a move **diagonally down** (representing a match between the two G's). The scoring for diagonal moves is to begin with the score diagonally above, then add the match bonus (here +1) if the two nucleotides in the row and column for that position match, or the mismatch penalty (here -1) for those two nucleotides if they don't match. In this case they do match, so the score for this move is 0 (the score of the cell above and to the left) + the match bonus of 1 = 1.\n",
        "\n",
        "###### Record the best scoring move\n",
        "Finally, we take the highest of these 3 scores and put it into the cell. This represents the best way that previous nucleotides in the two sequences could be aligned up to the current spot of the alignment - in other words the best path to this spot. We also draw an arrow to represent the direction of the best scoring move (here diagonal down). This can either be recorded in another table that is a copy of this one, or you can just draw the arrows into the corners of the cells like I've done below.\n",
        "\n",
        ">**The score of each cell in a Needleman Wunsch scoring matrix** is the *maximum score* produced by either:\n",
        ">Reaching it with a down move: score of cell above + gap penalty\n",
        ">Reacing it with a move to the right: score of cell to the left + gap penalty\n",
        ">Reacing it with a diagonal move: score of the cell above and to the left of this cell, + either the match bonus (if the row and column nucleotides match) or the mismatch penalty (if they don't).\n",
        "\n",
        "\n",
        "**What this result means**: In this case, the best score is produced by a diagonal (match or mismatch) move that matches the two G's for a score of 1. Biologically and intuitively this makes sense: if two sequences start with a G, a reasonable first step is to line up those G's.\n",
        "\n"
      ],
      "metadata": {
        "id": "vwNKtMQqrmp9"
      }
    },
    {
      "cell_type": "markdown",
      "source": [
        "<img src=\"https://drive.google.com/uc?export=view&id=1lr58kzQ1IBAPMkOv0f0av-Ah_F-c7Ntw\" width=\"400\" align=\"center\"  description=\"The image shows a table formed from the DNA sequence G C A T G C T on the x-axis (each column corresponds to one letter) and the sequence G A T T A C A on the y-axis. There is one extra blank row or column before each sequence. The 1st row below the top sequence has numbers 0, -1, -2 up through -7 in the cells. The first column before the 2nd sequence also has the numbers 0, -1, -2, through -7 (from top to bottom) in the cells. The cell immediately diagonally down from the top left is marked '1'.\">"
      ],
      "metadata": {
        "id": "4cbXaMEOrxS2"
      }
    },
    {
      "cell_type": "markdown",
      "source": [
        "### Step 3. Repeat for the rest of the cells in the table\n",
        "\n",
        "Repeat the process from Step 2 above to score all the other cells in the table. Here's how that would look after the first row (I've omitted all the arrows to make the table a little less dense):\n",
        "\n",
        "\n",
        "<img src=\"https://drive.google.com/uc?export=view&id=1prhH4SEThXOVmAO0k2s8sB-IGkLoYxEi\" width=\"400\" align=\"center\"  description=\"The image shows a table formed from the DNA sequence G C A T G C T on the x-axis (each column corresponds to one letter) and the sequence G A T T A C A on the y-axis. There is one extra blank row or column before each sequence. The 1st row below the top sequence has numbers 0, -1, -2 up through -7 in the cells. The first column before the 2nd sequence also has the numbers 0, -1, -2, through -7 (from top to bottom) in the cells.\">"
      ],
      "metadata": {
        "id": "opMcGpf1r5ej"
      }
    },
    {
      "cell_type": "markdown",
      "source": [
        "### Step 4. Trace back through the matrix to find the optimal alignment\n",
        "\n",
        "Finally, start in the lower right of the alignment. Step to the cell that has the highest score and is either above, to the left or diagonal up and to the left of the current cell. Each time you step diagonally, record a match or mismatch between the row & diagonal sequences.\n",
        "\n",
        "Whenever you move up, record an indel in the left sequence. Whenever you move right, record an indel in the top sequence. If you move diagonally, record each nucleotide in it's respective sequence.\n",
        "\n",
        "So for the first move (a diagonal), we'd record:\n",
        "\n",
        "`\n",
        "T\n",
        "A\n",
        "`\n",
        "\n",
        "Since these are the nucleotides in the lower left.\n",
        "\n",
        "After completing the full traceback, we would finally we would arrive at:\n",
        "\n",
        "`\n",
        "GCAT-GCT\n",
        "| ||\n",
        "G-ATTACA\n",
        "`\n"
      ],
      "metadata": {
        "id": "47ocj6Oor_qP"
      }
    },
    {
      "cell_type": "markdown",
      "source": [
        "https://drive.google.com/file/d/1xaIsO4qTYPZLL55g8qWQUZ6CNV-mJrDt/view?usp=sharing\n",
        "\n",
        "<img src=\"https://drive.google.com/uc?export=view&id=1xaIsO4qTYPZLL55g8qWQUZ6CNV-mJrDt\" width=\"400\" align=\"center\"  description=\"The image shows a table formed from the DNA sequence G C A T G C T on the x-axis (each column corresponds to one letter) and the sequence G A T T A C A on the y-axis. There is one extra blank row or column before each sequence. The 1st row below the top sequence has numbers 0, -1, -2 up through -7 in the cells. The first column before the 2nd sequence also has the numbers 0, -1, -2, through -7 (from top to bottom) in the cells.\">"
      ],
      "metadata": {
        "id": "nFUp1EF9sDjX"
      }
    },
    {
      "cell_type": "markdown",
      "source": [
        "\n",
        "## Implementing Needleman-Wunsch global alignment in python.\n",
        "\n",
        "Implementing Needleman-Wunsch alignment by hand is a fairly complex task, with several components. Therefore, to get it right, we have to be gentle on ourselves by breaking it up into many smaller tasks. That way we won't get overwhelmed by the overall algorithm and can just focus on ensuring that each piece works.\n",
        "\n",
        "##### Setting up the scoring and traceback arrays\n",
        "\n",
        "When we did the algorithm by hand, our first step was to draw some tables. In python we will instead use numpy arrays. So our first task is to make two arrays that will represent our tables: one that is an array of numbers (for the scores) and one that is an array of strings (for the arrows).\n"
      ],
      "metadata": {
        "id": "b0hYfl8YsITe"
      }
    },
    {
      "cell_type": "code",
      "source": [
        "from numpy import full\n",
        "\n",
        "#build an array of zeroes\n",
        "seq1 = \"GCATGCT\"\n",
        "seq2 = \"GATACCA\"\n",
        "\n",
        "n_rows = len(\"-\"+seq1)\n",
        "n_columns = len(\"-\"+seq2)\n",
        "\n",
        "scoring_array = full([n_rows,n_columns],0)\n",
        "print(\"Scoring array:\\n\",scoring_array)\n",
        "\n",
        "traceback_array = full([n_rows,n_columns],\"-\")\n",
        "print(\"Traceback array:\\n\",traceback_array)"
      ],
      "metadata": {
        "colab": {
          "base_uri": "https://localhost:8080/"
        },
        "id": "2ZtFsGyeqKYg",
        "outputId": "d40a964c-c50d-4286-c321-f1f6584cad9f"
      },
      "execution_count": null,
      "outputs": [
        {
          "output_type": "stream",
          "name": "stdout",
          "text": [
            "Scoring array:\n",
            " [[0 0 0 0 0 0 0 0]\n",
            " [0 0 0 0 0 0 0 0]\n",
            " [0 0 0 0 0 0 0 0]\n",
            " [0 0 0 0 0 0 0 0]\n",
            " [0 0 0 0 0 0 0 0]\n",
            " [0 0 0 0 0 0 0 0]\n",
            " [0 0 0 0 0 0 0 0]\n",
            " [0 0 0 0 0 0 0 0]]\n",
            "Traceback array:\n",
            " [['-' '-' '-' '-' '-' '-' '-' '-']\n",
            " ['-' '-' '-' '-' '-' '-' '-' '-']\n",
            " ['-' '-' '-' '-' '-' '-' '-' '-']\n",
            " ['-' '-' '-' '-' '-' '-' '-' '-']\n",
            " ['-' '-' '-' '-' '-' '-' '-' '-']\n",
            " ['-' '-' '-' '-' '-' '-' '-' '-']\n",
            " ['-' '-' '-' '-' '-' '-' '-' '-']\n",
            " ['-' '-' '-' '-' '-' '-' '-' '-']]\n"
          ]
        }
      ]
    },
    {
      "cell_type": "markdown",
      "source": [
        "here, we are using scoring and traceback array for matrix. scoring is used for performing the operation for array and traceback array is used for checking the operations using traceback array for corrections.\n",
        "\n",
        "**import numpy** - we are importing numpy libraries. this is used for performing mathematical calculations.\n",
        "now, we are creating matrix with zeros.for that we provide two strings such as\n",
        "sequence 1 = \"GCATGCT\" and sequence 2 = \"GATACCA\".\n",
        "\n",
        "scoring array is calculating the score of matrix based on the alignments.\n",
        "Now, we are calculating the length of the sequences and assign this values into the columns and rows.n_rows = len(\"-\"+seq1) and n_columns = len(\"-\"+seq2.).now we start calculating scoring array.scoring_array = full([n_rows,n_columns],0)\n",
        "print(\"Scoring array:\\n\",scoring_array) here we are using the full() is used for return the array with filled values for rows and columns.at the last printing the scoring array.\n",
        "\n",
        "Traceback array is checking whether matrix is have something wrong or not.\n",
        "now, we are calculating traceback arrays for that we are using\n",
        "traceback_array = full([n_rows,n_columns],\"-\")where full is return the array with filled up values of that shape here its matrix. now we are printing the traceback array print(\"Traceback array:\\n\",traceback_array)."
      ],
      "metadata": {
        "id": "ICbiNxYevsPq"
      }
    },
    {
      "cell_type": "markdown",
      "source": [
        "## Making the scoring array easier to read\n",
        "\n",
        "To make the scoring array easier to read, we can write a quick function to turn it into an HTML table. It isn't very important to understand this function. I show it for completeness, but it's mostly just to make the rest output prettier results that are easier to follow.\n",
        "\n",
        "Basically, we're creating a new pandas DataFrame object from our 2d array, and setting the sequences as its row and column names. Pandas DataFrames already have a built in `to_html` function that turns them into pretty HTML output. So we just call that function, and then show the result using IPython's HTML function.\n",
        "\n",
        "(And no, I did not just magically know or remember all this! Despite having done this before, I absolutely had to google how to do this from [StackOverflow](https://stackoverflow.com/questions/25698448/how-to-embed-html-into-ipython-output))."
      ],
      "metadata": {
        "id": "fXyKD34xsPQP"
      }
    },
    {
      "cell_type": "code",
      "source": [
        "from IPython.core.display import HTML,display\n",
        "import pandas as pd\n",
        "\n",
        "def pretty_table_from_array(data_array, row_labels,col_labels):\n",
        "    \"\"\"Show an HTML table from a 2d numpy array\"\"\"\n",
        "    df = pd.DataFrame(data_array,index=row_labels,columns=col_labels)\n",
        "    table_html = df.to_html()\n",
        "    return HTML(table_html)"
      ],
      "metadata": {
        "id": "iwlNebRcsLe-"
      },
      "execution_count": null,
      "outputs": []
    },
    {
      "cell_type": "markdown",
      "source": [
        "Here, we are importing the libraries for ipython core display and importing html and display libraries as well as importing pandas libraries for doing data analysis.\n",
        "Pretty table is used for generating simple ASCII table. pretty table is used for table formating and editing.\n",
        "now we are creating df for dataframes and after that  we are creating the html table to dataframe table and return the html table.\n"
      ],
      "metadata": {
        "id": "_6lAvlvpHv5a"
      }
    },
    {
      "cell_type": "code",
      "source": [
        "\n",
        "row_labels = [label for label in \"-\"+seq1]\n",
        "column_labels = [label for label in \"-\"+seq2]\n",
        "\n",
        "print(\"Scoring array:\")\n",
        "display(pretty_table_from_array(scoring_array,row_labels,column_labels))\n",
        "print(\"Traceback array:\")\n",
        "display(pretty_table_from_array(traceback_array,row_labels,column_labels))"
      ],
      "metadata": {
        "colab": {
          "base_uri": "https://localhost:8080/",
          "height": 618
        },
        "id": "2FSayOJAsTMH",
        "outputId": "17168043-c953-4543-f6d4-a9128b4b7c8a"
      },
      "execution_count": null,
      "outputs": [
        {
          "output_type": "stream",
          "name": "stdout",
          "text": [
            "Scoring array:\n"
          ]
        },
        {
          "output_type": "display_data",
          "data": {
            "text/plain": [
              "<IPython.core.display.HTML object>"
            ],
            "text/html": [
              "<table border=\"1\" class=\"dataframe\">\n",
              "  <thead>\n",
              "    <tr style=\"text-align: right;\">\n",
              "      <th></th>\n",
              "      <th>-</th>\n",
              "      <th>G</th>\n",
              "      <th>A</th>\n",
              "      <th>T</th>\n",
              "      <th>A</th>\n",
              "      <th>C</th>\n",
              "      <th>C</th>\n",
              "      <th>A</th>\n",
              "    </tr>\n",
              "  </thead>\n",
              "  <tbody>\n",
              "    <tr>\n",
              "      <th>-</th>\n",
              "      <td>0</td>\n",
              "      <td>0</td>\n",
              "      <td>0</td>\n",
              "      <td>0</td>\n",
              "      <td>0</td>\n",
              "      <td>0</td>\n",
              "      <td>0</td>\n",
              "      <td>0</td>\n",
              "    </tr>\n",
              "    <tr>\n",
              "      <th>G</th>\n",
              "      <td>0</td>\n",
              "      <td>0</td>\n",
              "      <td>0</td>\n",
              "      <td>0</td>\n",
              "      <td>0</td>\n",
              "      <td>0</td>\n",
              "      <td>0</td>\n",
              "      <td>0</td>\n",
              "    </tr>\n",
              "    <tr>\n",
              "      <th>C</th>\n",
              "      <td>0</td>\n",
              "      <td>0</td>\n",
              "      <td>0</td>\n",
              "      <td>0</td>\n",
              "      <td>0</td>\n",
              "      <td>0</td>\n",
              "      <td>0</td>\n",
              "      <td>0</td>\n",
              "    </tr>\n",
              "    <tr>\n",
              "      <th>A</th>\n",
              "      <td>0</td>\n",
              "      <td>0</td>\n",
              "      <td>0</td>\n",
              "      <td>0</td>\n",
              "      <td>0</td>\n",
              "      <td>0</td>\n",
              "      <td>0</td>\n",
              "      <td>0</td>\n",
              "    </tr>\n",
              "    <tr>\n",
              "      <th>T</th>\n",
              "      <td>0</td>\n",
              "      <td>0</td>\n",
              "      <td>0</td>\n",
              "      <td>0</td>\n",
              "      <td>0</td>\n",
              "      <td>0</td>\n",
              "      <td>0</td>\n",
              "      <td>0</td>\n",
              "    </tr>\n",
              "    <tr>\n",
              "      <th>G</th>\n",
              "      <td>0</td>\n",
              "      <td>0</td>\n",
              "      <td>0</td>\n",
              "      <td>0</td>\n",
              "      <td>0</td>\n",
              "      <td>0</td>\n",
              "      <td>0</td>\n",
              "      <td>0</td>\n",
              "    </tr>\n",
              "    <tr>\n",
              "      <th>C</th>\n",
              "      <td>0</td>\n",
              "      <td>0</td>\n",
              "      <td>0</td>\n",
              "      <td>0</td>\n",
              "      <td>0</td>\n",
              "      <td>0</td>\n",
              "      <td>0</td>\n",
              "      <td>0</td>\n",
              "    </tr>\n",
              "    <tr>\n",
              "      <th>T</th>\n",
              "      <td>0</td>\n",
              "      <td>0</td>\n",
              "      <td>0</td>\n",
              "      <td>0</td>\n",
              "      <td>0</td>\n",
              "      <td>0</td>\n",
              "      <td>0</td>\n",
              "      <td>0</td>\n",
              "    </tr>\n",
              "  </tbody>\n",
              "</table>"
            ]
          },
          "metadata": {}
        },
        {
          "output_type": "stream",
          "name": "stdout",
          "text": [
            "Traceback array:\n"
          ]
        },
        {
          "output_type": "display_data",
          "data": {
            "text/plain": [
              "<IPython.core.display.HTML object>"
            ],
            "text/html": [
              "<table border=\"1\" class=\"dataframe\">\n",
              "  <thead>\n",
              "    <tr style=\"text-align: right;\">\n",
              "      <th></th>\n",
              "      <th>-</th>\n",
              "      <th>G</th>\n",
              "      <th>A</th>\n",
              "      <th>T</th>\n",
              "      <th>A</th>\n",
              "      <th>C</th>\n",
              "      <th>C</th>\n",
              "      <th>A</th>\n",
              "    </tr>\n",
              "  </thead>\n",
              "  <tbody>\n",
              "    <tr>\n",
              "      <th>-</th>\n",
              "      <td>-</td>\n",
              "      <td>-</td>\n",
              "      <td>-</td>\n",
              "      <td>-</td>\n",
              "      <td>-</td>\n",
              "      <td>-</td>\n",
              "      <td>-</td>\n",
              "      <td>-</td>\n",
              "    </tr>\n",
              "    <tr>\n",
              "      <th>G</th>\n",
              "      <td>-</td>\n",
              "      <td>-</td>\n",
              "      <td>-</td>\n",
              "      <td>-</td>\n",
              "      <td>-</td>\n",
              "      <td>-</td>\n",
              "      <td>-</td>\n",
              "      <td>-</td>\n",
              "    </tr>\n",
              "    <tr>\n",
              "      <th>C</th>\n",
              "      <td>-</td>\n",
              "      <td>-</td>\n",
              "      <td>-</td>\n",
              "      <td>-</td>\n",
              "      <td>-</td>\n",
              "      <td>-</td>\n",
              "      <td>-</td>\n",
              "      <td>-</td>\n",
              "    </tr>\n",
              "    <tr>\n",
              "      <th>A</th>\n",
              "      <td>-</td>\n",
              "      <td>-</td>\n",
              "      <td>-</td>\n",
              "      <td>-</td>\n",
              "      <td>-</td>\n",
              "      <td>-</td>\n",
              "      <td>-</td>\n",
              "      <td>-</td>\n",
              "    </tr>\n",
              "    <tr>\n",
              "      <th>T</th>\n",
              "      <td>-</td>\n",
              "      <td>-</td>\n",
              "      <td>-</td>\n",
              "      <td>-</td>\n",
              "      <td>-</td>\n",
              "      <td>-</td>\n",
              "      <td>-</td>\n",
              "      <td>-</td>\n",
              "    </tr>\n",
              "    <tr>\n",
              "      <th>G</th>\n",
              "      <td>-</td>\n",
              "      <td>-</td>\n",
              "      <td>-</td>\n",
              "      <td>-</td>\n",
              "      <td>-</td>\n",
              "      <td>-</td>\n",
              "      <td>-</td>\n",
              "      <td>-</td>\n",
              "    </tr>\n",
              "    <tr>\n",
              "      <th>C</th>\n",
              "      <td>-</td>\n",
              "      <td>-</td>\n",
              "      <td>-</td>\n",
              "      <td>-</td>\n",
              "      <td>-</td>\n",
              "      <td>-</td>\n",
              "      <td>-</td>\n",
              "      <td>-</td>\n",
              "    </tr>\n",
              "    <tr>\n",
              "      <th>T</th>\n",
              "      <td>-</td>\n",
              "      <td>-</td>\n",
              "      <td>-</td>\n",
              "      <td>-</td>\n",
              "      <td>-</td>\n",
              "      <td>-</td>\n",
              "      <td>-</td>\n",
              "      <td>-</td>\n",
              "    </tr>\n",
              "  </tbody>\n",
              "</table>"
            ]
          },
          "metadata": {}
        }
      ]
    },
    {
      "cell_type": "markdown",
      "source": [
        "Here, we are creating matrix using scores and traceback arrays. where we are crteating matrix and providing rows and columns for sequence 1 and sequence 2.now at the last priting the matrix for scoring array and traceback the matrix for checking whether something wrong or not in array. where we filled up scoring with zeros and traceback is checking whether its filled up with zeros or not.\n"
      ],
      "metadata": {
        "id": "QQb_2E9-Humr"
      }
    },
    {
      "cell_type": "markdown",
      "source": [
        "### How to iterate over our array using nested for loops\n",
        "\n",
        "Before we try to write actual alignment code, let's make sure we're comfortable iterating over the cells of our array. Basically this means setting up code that lets us visit each cell in the array one by one - like running our finger along a table to read each row one by one from top to bottom.\n",
        "\n",
        "To visit a cell in the table, we need it's *index*, which is the row and column number for that cell. So to visit all the cells, our main challenge is to generate each row and column number one by one. To do this we will set up an outer `for` loop that iterates over each row one by one, setting each row number to a variable (here I call this variable `row_index`, but `i` is most commonly used in real code). Within each loop over the row numbers, an inner `for` loop iterates over each column number one by one and sets its value to a variable (here I use `col_index`, but `j` is most typically used in real code). Inside both loops, we will have a value for the current row and column number. We can use these to index into the scoring array using array indexing (`scoring_array[row_index,column_index]`).\n",
        "\n",
        "In the short code snippet below, let's practice this setup, and use it to number each cell of the array by the order in which we visit it. This can help show us visually what order our code is visiting the cells of our array."
      ],
      "metadata": {
        "id": "FbRSDJJjsYII"
      }
    },
    {
      "cell_type": "code",
      "source": [
        "count = 0\n",
        "for row_index in range(n_rows):\n",
        "    for col_index in range(n_columns):\n",
        "        scoring_array[row_index,col_index] = count\n",
        "        count += 1\n",
        "\n",
        "display(pretty_table_from_array(scoring_array,row_labels,column_labels))"
      ],
      "metadata": {
        "colab": {
          "base_uri": "https://localhost:8080/",
          "height": 300
        },
        "id": "0bhfDG62sVa6",
        "outputId": "30e8682c-81c4-4c01-d47a-45f60444f658"
      },
      "execution_count": null,
      "outputs": [
        {
          "output_type": "display_data",
          "data": {
            "text/plain": [
              "<IPython.core.display.HTML object>"
            ],
            "text/html": [
              "<table border=\"1\" class=\"dataframe\">\n",
              "  <thead>\n",
              "    <tr style=\"text-align: right;\">\n",
              "      <th></th>\n",
              "      <th>-</th>\n",
              "      <th>G</th>\n",
              "      <th>A</th>\n",
              "      <th>T</th>\n",
              "      <th>A</th>\n",
              "      <th>C</th>\n",
              "      <th>C</th>\n",
              "      <th>A</th>\n",
              "    </tr>\n",
              "  </thead>\n",
              "  <tbody>\n",
              "    <tr>\n",
              "      <th>-</th>\n",
              "      <td>0</td>\n",
              "      <td>1</td>\n",
              "      <td>2</td>\n",
              "      <td>3</td>\n",
              "      <td>4</td>\n",
              "      <td>5</td>\n",
              "      <td>6</td>\n",
              "      <td>7</td>\n",
              "    </tr>\n",
              "    <tr>\n",
              "      <th>G</th>\n",
              "      <td>8</td>\n",
              "      <td>9</td>\n",
              "      <td>10</td>\n",
              "      <td>11</td>\n",
              "      <td>12</td>\n",
              "      <td>13</td>\n",
              "      <td>14</td>\n",
              "      <td>15</td>\n",
              "    </tr>\n",
              "    <tr>\n",
              "      <th>C</th>\n",
              "      <td>16</td>\n",
              "      <td>17</td>\n",
              "      <td>18</td>\n",
              "      <td>19</td>\n",
              "      <td>20</td>\n",
              "      <td>21</td>\n",
              "      <td>22</td>\n",
              "      <td>23</td>\n",
              "    </tr>\n",
              "    <tr>\n",
              "      <th>A</th>\n",
              "      <td>24</td>\n",
              "      <td>25</td>\n",
              "      <td>26</td>\n",
              "      <td>27</td>\n",
              "      <td>28</td>\n",
              "      <td>29</td>\n",
              "      <td>30</td>\n",
              "      <td>31</td>\n",
              "    </tr>\n",
              "    <tr>\n",
              "      <th>T</th>\n",
              "      <td>32</td>\n",
              "      <td>33</td>\n",
              "      <td>34</td>\n",
              "      <td>35</td>\n",
              "      <td>36</td>\n",
              "      <td>37</td>\n",
              "      <td>38</td>\n",
              "      <td>39</td>\n",
              "    </tr>\n",
              "    <tr>\n",
              "      <th>G</th>\n",
              "      <td>40</td>\n",
              "      <td>41</td>\n",
              "      <td>42</td>\n",
              "      <td>43</td>\n",
              "      <td>44</td>\n",
              "      <td>45</td>\n",
              "      <td>46</td>\n",
              "      <td>47</td>\n",
              "    </tr>\n",
              "    <tr>\n",
              "      <th>C</th>\n",
              "      <td>48</td>\n",
              "      <td>49</td>\n",
              "      <td>50</td>\n",
              "      <td>51</td>\n",
              "      <td>52</td>\n",
              "      <td>53</td>\n",
              "      <td>54</td>\n",
              "      <td>55</td>\n",
              "    </tr>\n",
              "    <tr>\n",
              "      <th>T</th>\n",
              "      <td>56</td>\n",
              "      <td>57</td>\n",
              "      <td>58</td>\n",
              "      <td>59</td>\n",
              "      <td>60</td>\n",
              "      <td>61</td>\n",
              "      <td>62</td>\n",
              "      <td>63</td>\n",
              "    </tr>\n",
              "  </tbody>\n",
              "</table>"
            ]
          },
          "metadata": {}
        }
      ]
    },
    {
      "cell_type": "markdown",
      "source": [
        "Because our `for` loop iterating over rows is on the outside, we first visit the 0th row, then the inner loop triggers and we visit each column in that row (cells marked 0-7)\n",
        "Then we visit the next row, and the process repeats (cells marked 8-15). The loops continue until we hit the bottom of the array (cell marked 63).\n",
        "Note that even though there are 8 rows and 8 columns, the number in the final cell (63) is one less than 8x8 = 64 because we are counting from zero.\n",
        "\n",
        "**Stop for a moment and try swapping the order of the for loops** (so the line `for col_index in range(n_columns)` comes first). Now rerun the code. How does this affect the order in which the cells are visited?\n",
        "\n"
      ],
      "metadata": {
        "id": "IGnfFskysfAv"
      }
    },
    {
      "cell_type": "markdown",
      "source": [
        "#### How to draw pretty Unicode arrows for use in the traceback array\n",
        "\n",
        "Eventually we will need to be able to *trace back* the path we took through the scoring array. To do this we will use special unicode characters to draw pretty arrows representing our steps.\n",
        "\n",
        "Note that such unicode symbols can also be used to type Braille characters, etc.\n",
        "Official documentation on Unicode symbols is available [here](http://www.unicode.org/charts/#symbols).\n",
        "\n",
        "[This](http://xahlee.info/comp/unicode_index.html) searchable gallery may also be of interest.                                                         \n",
        "           \n",
        "In python 3, special Unicode charcters can be accessed with \\u (for Unicode) and then the number of that character in the Unicode system (which you look up from one of the resources above).\n",
        "\n",
        "Before we use them in anything fancy, let's try accessing Unicode and printing them out.\n"
      ],
      "metadata": {
        "id": "8b0q2xIcsjkI"
      }
    },
    {
      "cell_type": "code",
      "source": [
        "up_arrow = \"\\u2191\"\n",
        "right_arrow = \"\\u2192\"\n",
        "down_arrow = \"\\u2193\"\n",
        "left_arrow = \"\\u2190\"\n",
        "down_right_arrow = \"\\u2198\"\n",
        "up_left_arrow = \"\\u2196\"\n",
        "\n",
        "print(\"Up arrow\",up_arrow)\n",
        "print(\"Left arrow\",left_arrow)\n",
        "print(\"Up Left arrow\",up_left_arrow)\n"
      ],
      "metadata": {
        "colab": {
          "base_uri": "https://localhost:8080/"
        },
        "id": "HiNmmDzJsceS",
        "outputId": "0776c491-7386-411d-f84c-7e52f0180281"
      },
      "execution_count": null,
      "outputs": [
        {
          "output_type": "stream",
          "name": "stdout",
          "text": [
            "Up arrow ↑\n",
            "Left arrow ←\n",
            "Up Left arrow ↖\n"
          ]
        }
      ]
    },
    {
      "cell_type": "markdown",
      "source": [
        "unicode is a specification the main goal of that is to list every character used by human understable language and give each them a unique code.\n",
        "Here, we are creating unicode arrows for travelling from right side to left side in to the matrix. Here, we are creating up arrow,right arrow,left arrow, down right arrow, up left arrow and printing the arrow for Up arrow ↑,Left arrow ←,Up Left arrow ↖."
      ],
      "metadata": {
        "id": "NUAKbuxXQiBy"
      }
    },
    {
      "cell_type": "markdown",
      "source": [
        "#### Implementing the Needleman-Wunsch algorithm\n",
        "\n",
        "Now that we know how to iterate over the cells of an array, we can begin to implement the Needleman-Wunsch algorithm to fill in the scoring array.\n",
        "\n",
        "When we first calculate our scoring matrix, we can also keep track in a second identically shaped matrix of the directions we have moved. This extra bookkeeping will prevent us from having to re-infer all this information at the end of the process."
      ],
      "metadata": {
        "id": "EDBp99ePspzg"
      }
    },
    {
      "cell_type": "code",
      "source": [
        "#build an array of zeroes\n",
        "n_rows = len(seq1) + 1 #need an extra row up top\n",
        "n_columns = len(seq2) + 1 #need an extra column on the left\n",
        "row_labels = [label for label in \"-\"+seq1]\n",
        "column_labels = [label for label in \"-\"+seq2]\n",
        "\n",
        "\n",
        "scoring_array = full([n_rows,n_columns],0)\n",
        "traceback_array = full([n_rows,n_columns],\"-\")\n",
        "\n",
        "\n",
        "#Define Unicode arrows we'll use in the traceback array\n",
        "up_arrow = \"\\u2191\"\n",
        "right_arrow = \"\\u2192\"\n",
        "down_arrow = \"\\u2193\"\n",
        "left_arrow = \"\\u2190\"\n",
        "down_right_arrow = \"\\u2198\"\n",
        "up_left_arrow = \"\\u2196\"\n",
        "\n",
        "arrow = \"-\"\n",
        "gap_penalty = -1\n",
        "match_bonus = 1\n",
        "mismatch_penalty = -1\n",
        "#iterate over columns first because we want to do\n",
        "# all the columns for row 1 before row 2\n",
        "for row in range(n_rows):\n",
        "    for col in range(n_columns):\n",
        "        if row == 0 and col == 0:\n",
        "            #We're in the upper right corner\n",
        "            score = 0\n",
        "            arrow = \"-\"\n",
        "        elif row == 0:\n",
        "            #We're on the first row\n",
        "            #but NOT in the corner\n",
        "\n",
        "            #Look up the score of the previous cell (to the left) in the score array\\\n",
        "            previous_score = scoring_array[row,col - 1]\n",
        "            # add the gap penalty to it's score\n",
        "            score = previous_score + gap_penalty\n",
        "            arrow = left_arrow\n",
        "        elif col == 0:\n",
        "            #We're on the first column but not in the first row\n",
        "            previous_score = scoring_array[row -1,col]\n",
        "            score = previous_score + gap_penalty\n",
        "            arrow = up_arrow\n",
        "        else:\n",
        "            #We're in a 'middle' cell of the alignment\n",
        "\n",
        "            #Calculate the scores for coming from above,\n",
        "            #from the left, (representing an insertion into seq1)\n",
        "            cell_to_the_left = scoring_array[row,col-1]\n",
        "            from_left_score = cell_to_the_left + gap_penalty\n",
        "\n",
        "            #or from above (representing an insertion into seq2)\n",
        "            above_cell = scoring_array[row-1,col]\n",
        "            from_above_score = above_cell + gap_penalty\n",
        "\n",
        "            #diagonal cell, representing a substitution (e.g. A --> T)\n",
        "            diagonal_left_cell = scoring_array[row-1,col-1]\n",
        "\n",
        "            #NOTE: since the table has an extra row and column (the blank ones),\n",
        "            #when indexing back to the sequence we want row -1 and col - 1.\n",
        "            #since row 1 represents character 0 of the sequence.\n",
        "            if seq1[row-1] == seq2[col-1]:\n",
        "                diagonal_left_cell_score = diagonal_left_cell + match_bonus\n",
        "            else:\n",
        "                diagonal_left_cell_score = diagonal_left_cell + mismatch_penalty\n",
        "\n",
        "            score = max([from_left_score,from_above_score,diagonal_left_cell_score])\n",
        "            #take the max\n",
        "\n",
        "            #make note of which cell was the max in the traceback array\n",
        "            #using Unicode arrows\n",
        "            if score == from_left_score:\n",
        "                arrow = left_arrow\n",
        "            elif score == from_above_score:\n",
        "                arrow = up_arrow\n",
        "            elif score == diagonal_left_cell_score:\n",
        "                arrow = up_left_arrow\n",
        "\n",
        "        traceback_array[row,col]=arrow\n",
        "        scoring_array[row,col] = score\n",
        "\n",
        "display(pretty_table_from_array(scoring_array,row_labels,column_labels))\n",
        "display(pretty_table_from_array(traceback_array,row_labels,column_labels))"
      ],
      "metadata": {
        "colab": {
          "base_uri": "https://localhost:8080/",
          "height": 583
        },
        "id": "1UDlsdw_smsO",
        "outputId": "cdda5c30-772f-49c7-f900-6b19372743ca"
      },
      "execution_count": null,
      "outputs": [
        {
          "output_type": "display_data",
          "data": {
            "text/plain": [
              "<IPython.core.display.HTML object>"
            ],
            "text/html": [
              "<table border=\"1\" class=\"dataframe\">\n",
              "  <thead>\n",
              "    <tr style=\"text-align: right;\">\n",
              "      <th></th>\n",
              "      <th>-</th>\n",
              "      <th>G</th>\n",
              "      <th>A</th>\n",
              "      <th>T</th>\n",
              "      <th>A</th>\n",
              "      <th>C</th>\n",
              "      <th>C</th>\n",
              "      <th>A</th>\n",
              "    </tr>\n",
              "  </thead>\n",
              "  <tbody>\n",
              "    <tr>\n",
              "      <th>-</th>\n",
              "      <td>0</td>\n",
              "      <td>-1</td>\n",
              "      <td>-2</td>\n",
              "      <td>-3</td>\n",
              "      <td>-4</td>\n",
              "      <td>-5</td>\n",
              "      <td>-6</td>\n",
              "      <td>-7</td>\n",
              "    </tr>\n",
              "    <tr>\n",
              "      <th>G</th>\n",
              "      <td>-1</td>\n",
              "      <td>1</td>\n",
              "      <td>0</td>\n",
              "      <td>-1</td>\n",
              "      <td>-2</td>\n",
              "      <td>-3</td>\n",
              "      <td>-4</td>\n",
              "      <td>-5</td>\n",
              "    </tr>\n",
              "    <tr>\n",
              "      <th>C</th>\n",
              "      <td>-2</td>\n",
              "      <td>0</td>\n",
              "      <td>0</td>\n",
              "      <td>-1</td>\n",
              "      <td>-2</td>\n",
              "      <td>-1</td>\n",
              "      <td>-2</td>\n",
              "      <td>-3</td>\n",
              "    </tr>\n",
              "    <tr>\n",
              "      <th>A</th>\n",
              "      <td>-3</td>\n",
              "      <td>-1</td>\n",
              "      <td>1</td>\n",
              "      <td>0</td>\n",
              "      <td>0</td>\n",
              "      <td>-1</td>\n",
              "      <td>-2</td>\n",
              "      <td>-1</td>\n",
              "    </tr>\n",
              "    <tr>\n",
              "      <th>T</th>\n",
              "      <td>-4</td>\n",
              "      <td>-2</td>\n",
              "      <td>0</td>\n",
              "      <td>2</td>\n",
              "      <td>1</td>\n",
              "      <td>0</td>\n",
              "      <td>-1</td>\n",
              "      <td>-2</td>\n",
              "    </tr>\n",
              "    <tr>\n",
              "      <th>G</th>\n",
              "      <td>-5</td>\n",
              "      <td>-3</td>\n",
              "      <td>-1</td>\n",
              "      <td>1</td>\n",
              "      <td>1</td>\n",
              "      <td>0</td>\n",
              "      <td>-1</td>\n",
              "      <td>-2</td>\n",
              "    </tr>\n",
              "    <tr>\n",
              "      <th>C</th>\n",
              "      <td>-6</td>\n",
              "      <td>-4</td>\n",
              "      <td>-2</td>\n",
              "      <td>0</td>\n",
              "      <td>0</td>\n",
              "      <td>2</td>\n",
              "      <td>1</td>\n",
              "      <td>0</td>\n",
              "    </tr>\n",
              "    <tr>\n",
              "      <th>T</th>\n",
              "      <td>-7</td>\n",
              "      <td>-5</td>\n",
              "      <td>-3</td>\n",
              "      <td>-1</td>\n",
              "      <td>-1</td>\n",
              "      <td>1</td>\n",
              "      <td>1</td>\n",
              "      <td>0</td>\n",
              "    </tr>\n",
              "  </tbody>\n",
              "</table>"
            ]
          },
          "metadata": {}
        },
        {
          "output_type": "display_data",
          "data": {
            "text/plain": [
              "<IPython.core.display.HTML object>"
            ],
            "text/html": [
              "<table border=\"1\" class=\"dataframe\">\n",
              "  <thead>\n",
              "    <tr style=\"text-align: right;\">\n",
              "      <th></th>\n",
              "      <th>-</th>\n",
              "      <th>G</th>\n",
              "      <th>A</th>\n",
              "      <th>T</th>\n",
              "      <th>A</th>\n",
              "      <th>C</th>\n",
              "      <th>C</th>\n",
              "      <th>A</th>\n",
              "    </tr>\n",
              "  </thead>\n",
              "  <tbody>\n",
              "    <tr>\n",
              "      <th>-</th>\n",
              "      <td>-</td>\n",
              "      <td>←</td>\n",
              "      <td>←</td>\n",
              "      <td>←</td>\n",
              "      <td>←</td>\n",
              "      <td>←</td>\n",
              "      <td>←</td>\n",
              "      <td>←</td>\n",
              "    </tr>\n",
              "    <tr>\n",
              "      <th>G</th>\n",
              "      <td>↑</td>\n",
              "      <td>↖</td>\n",
              "      <td>←</td>\n",
              "      <td>←</td>\n",
              "      <td>←</td>\n",
              "      <td>←</td>\n",
              "      <td>←</td>\n",
              "      <td>←</td>\n",
              "    </tr>\n",
              "    <tr>\n",
              "      <th>C</th>\n",
              "      <td>↑</td>\n",
              "      <td>↑</td>\n",
              "      <td>↖</td>\n",
              "      <td>←</td>\n",
              "      <td>←</td>\n",
              "      <td>↖</td>\n",
              "      <td>←</td>\n",
              "      <td>←</td>\n",
              "    </tr>\n",
              "    <tr>\n",
              "      <th>A</th>\n",
              "      <td>↑</td>\n",
              "      <td>↑</td>\n",
              "      <td>↖</td>\n",
              "      <td>←</td>\n",
              "      <td>↖</td>\n",
              "      <td>←</td>\n",
              "      <td>←</td>\n",
              "      <td>↖</td>\n",
              "    </tr>\n",
              "    <tr>\n",
              "      <th>T</th>\n",
              "      <td>↑</td>\n",
              "      <td>↑</td>\n",
              "      <td>↑</td>\n",
              "      <td>↖</td>\n",
              "      <td>←</td>\n",
              "      <td>←</td>\n",
              "      <td>←</td>\n",
              "      <td>←</td>\n",
              "    </tr>\n",
              "    <tr>\n",
              "      <th>G</th>\n",
              "      <td>↑</td>\n",
              "      <td>↑</td>\n",
              "      <td>↑</td>\n",
              "      <td>↑</td>\n",
              "      <td>↖</td>\n",
              "      <td>←</td>\n",
              "      <td>←</td>\n",
              "      <td>←</td>\n",
              "    </tr>\n",
              "    <tr>\n",
              "      <th>C</th>\n",
              "      <td>↑</td>\n",
              "      <td>↑</td>\n",
              "      <td>↑</td>\n",
              "      <td>↑</td>\n",
              "      <td>↑</td>\n",
              "      <td>↖</td>\n",
              "      <td>←</td>\n",
              "      <td>←</td>\n",
              "    </tr>\n",
              "    <tr>\n",
              "      <th>T</th>\n",
              "      <td>↑</td>\n",
              "      <td>↑</td>\n",
              "      <td>↑</td>\n",
              "      <td>↑</td>\n",
              "      <td>↑</td>\n",
              "      <td>↑</td>\n",
              "      <td>↖</td>\n",
              "      <td>←</td>\n",
              "    </tr>\n",
              "  </tbody>\n",
              "</table>"
            ]
          },
          "metadata": {}
        }
      ]
    },
    {
      "cell_type": "markdown",
      "source": [
        "Here, we are calculating the iteration values for matrix for traversing.scoring array is the process of calculating the matrix for operations.\n",
        "traceback is used for checking the back track of the matrix.here we are checking the back track whether there is something wrong or not."
      ],
      "metadata": {
        "id": "vzBJzGUySYJ_"
      }
    },
    {
      "cell_type": "markdown",
      "source": [
        "#### Tracing back along the scoring matrix to find an optimal alignment\n",
        "\n",
        "Our traceback step is going to be a little bit tricky because there can be more than one optial path.\n",
        "\n",
        "If we ignore this complication for a moment, our algorithm might look something like this:\n",
        "\n",
        "- start in the bottom right\n",
        "- find whether the cell to the left, above or above and to the left of the current cell has the highest value\n",
        "- move to that cell\n",
        "- adjust the alignment of seq1 and seq2 based on the move.\n",
        "- continue moving until we reach 0,0\n",
        "\n",
        "This would work, except that some cells will be tied in value. This can happen anytime there are two or more equally good alignments of our sequences. Therefore, we have to do something more like this:\n",
        "\n",
        "- create an empty list of branches\n",
        "- start in the bottom right cell\n",
        "- for each branch:\n",
        "    - find whether the cell to the left, above or above and to the left of the current cell has the highest value\n",
        "    - if there's a tie, pick one value to pursue, and add the others as additional branches.\n",
        "    - move to that cell\n",
        "    - adjust the alignment of seq1 and seq2 based on the move.\n",
        "    - continue moving until we reach 0,0"
      ],
      "metadata": {
        "id": "EoqnQdyXsv6i"
      }
    },
    {
      "cell_type": "code",
      "source": [
        "def traceback_alignment(traceback_array,seq1,seq2,up_arrow = \"\\u2191\" ,\\\n",
        "                        left_arrow=\"\\u2190\",up_left_arrow=\"\\u2196\",stop=\"-\"):\n",
        "    \"\"\"Align seq1 and seq2 using the traceback matrix and return as two strings\n",
        "\n",
        "    traceback_array -- a numpy array with arrow characters indicating the direction from\n",
        "    which the best path to a given alignment position originated\n",
        "\n",
        "    seq1 - a sequence represented as a string\n",
        "    seq2 - a sequence represented as a string\n",
        "    up_arrow - the unicode used for the up arrows (there are several arrow symbols in Unicode)\n",
        "    left_arrow - the unicode used for the left arrows\n",
        "    up_left_arrow - the unicode used for the diagonal arrows\n",
        "    stop - the symbol used in the upper left to indicate the end of the alignment\n",
        "    \"\"\"\n",
        "\n",
        "    n_rows = len(seq1) + 1 #need an extra row up top\n",
        "    n_columns = len(seq2) + 1 #need an extra row up top\n",
        "\n",
        "    row = len(seq1)\n",
        "    col = len(seq2)\n",
        "    arrow = traceback_array[row,col]\n",
        "    aligned_seq1 = \"\"\n",
        "    aligned_seq2 = \"\"\n",
        "    alignment_indicator = \"\"\n",
        "    while arrow is not \"-\":\n",
        "            print(\"Currently on row:\",row)\n",
        "            print(\"Currently on col:\",col)\n",
        "            arrow = traceback_array[row,col]\n",
        "            print(\"Arrow:\",arrow)\n",
        "\n",
        "            if arrow == up_arrow:\n",
        "                print(\"insert indel into top sequence\")\n",
        "                #We want to add the new indel onto the left\n",
        "                #side of the growing aligned sequence\n",
        "                aligned_seq2 = \"-\"+aligned_seq2\n",
        "                aligned_seq1 = seq1[row-1] + aligned_seq1\n",
        "                alignment_indicator = \" \"+alignment_indicator\n",
        "                row -=1\n",
        "\n",
        "            elif arrow == up_left_arrow:\n",
        "                print(\"match or mismatch\")\n",
        "                #Note that we look up the row-1 and col-1 indexes\n",
        "                #because there is an extra \"-\" character at the\n",
        "                #start of each sequence\n",
        "                seq1_character = seq1[row-1]\n",
        "                seq2_character = seq2[col-1]\n",
        "                aligned_seq1 = seq1[row-1] + aligned_seq1\n",
        "                aligned_seq2 = seq2[col-1] + aligned_seq2\n",
        "                if seq1_character == seq2_character:\n",
        "                    alignment_indicator = \"|\"+alignment_indicator\n",
        "                else:\n",
        "                    alignment_indicator = \" \"+alignment_indicator\n",
        "                row -=1\n",
        "                col -=1\n",
        "\n",
        "            elif arrow == left_arrow:\n",
        "                print(\"Insert indel into left sequence\")\n",
        "                aligned_seq1 = \"-\"+aligned_seq1\n",
        "                aligned_seq2 = seq2[col-1] + aligned_seq2\n",
        "                alignment_indicator = \" \"+alignment_indicator\n",
        "                col -=1\n",
        "\n",
        "            elif arrow == stop:\n",
        "                break\n",
        "            else:\n",
        "                raise ValueError(f\"Traceback array entry at {row},{col}: {arrow} is not recognized as an up arrow ({up_arrow}),left_arrow ({left_arrow}), up_left_arrow ({up_left_arrow}), or a stop ({stop}).\")\n",
        "            #print(traceback_array,-row,-col,traceback_array[-row,-col])\n",
        "            print(aligned_seq1)\n",
        "            print(alignment_indicator)\n",
        "            print(aligned_seq2)\n",
        "\n",
        "    return aligned_seq1,aligned_seq2\n",
        "traceback_alignment(traceback_array,seq1,seq2)"
      ],
      "metadata": {
        "colab": {
          "base_uri": "https://localhost:8080/"
        },
        "id": "RdaNLmW9ssNV",
        "outputId": "2a9cbe4e-f034-4cd7-d0fd-43246bb175dc"
      },
      "execution_count": null,
      "outputs": [
        {
          "output_type": "stream",
          "name": "stdout",
          "text": [
            "Currently on row: 7\n",
            "Currently on col: 7\n",
            "Arrow: ←\n",
            "Insert indel into left sequence\n",
            "-\n",
            " \n",
            "A\n",
            "Currently on row: 7\n",
            "Currently on col: 6\n",
            "Arrow: ↖\n",
            "match or mismatch\n",
            "T-\n",
            "  \n",
            "CA\n",
            "Currently on row: 6\n",
            "Currently on col: 5\n",
            "Arrow: ↖\n",
            "match or mismatch\n",
            "CT-\n",
            "|  \n",
            "CCA\n",
            "Currently on row: 5\n",
            "Currently on col: 4\n",
            "Arrow: ↖\n",
            "match or mismatch\n",
            "GCT-\n",
            " |  \n",
            "ACCA\n",
            "Currently on row: 4\n",
            "Currently on col: 3\n",
            "Arrow: ↖\n",
            "match or mismatch\n",
            "TGCT-\n",
            "| |  \n",
            "TACCA\n",
            "Currently on row: 3\n",
            "Currently on col: 2\n",
            "Arrow: ↖\n",
            "match or mismatch\n",
            "ATGCT-\n",
            "|| |  \n",
            "ATACCA\n",
            "Currently on row: 2\n",
            "Currently on col: 1\n",
            "Arrow: ↑\n",
            "insert indel into top sequence\n",
            "CATGCT-\n",
            " || |  \n",
            "-ATACCA\n",
            "Currently on row: 1\n",
            "Currently on col: 1\n",
            "Arrow: ↖\n",
            "match or mismatch\n",
            "GCATGCT-\n",
            "| || |  \n",
            "G-ATACCA\n",
            "Currently on row: 0\n",
            "Currently on col: 0\n",
            "Arrow: -\n"
          ]
        },
        {
          "output_type": "stream",
          "name": "stderr",
          "text": [
            "<>:25: SyntaxWarning: \"is not\" with a literal. Did you mean \"!=\"?\n",
            "<>:25: SyntaxWarning: \"is not\" with a literal. Did you mean \"!=\"?\n",
            "<ipython-input-8-8f139492132b>:25: SyntaxWarning: \"is not\" with a literal. Did you mean \"!=\"?\n",
            "  while arrow is not \"-\":\n"
          ]
        },
        {
          "output_type": "execute_result",
          "data": {
            "text/plain": [
              "('GCATGCT-', 'G-ATACCA')"
            ]
          },
          "metadata": {},
          "execution_count": 8
        }
      ]
    },
    {
      "cell_type": "markdown",
      "source": [
        "Here, we are trying to traceBack loop breaks when we reach the 'done' cell or when our matrix iterators move-in negative or when the traceBack loops value is '0'.\n",
        "Here, we are checking the string into the matrix using left,right,top corner and based on the arrows.\n",
        "we are checking the string based on columns and rows and checking whether it is matching the character or not if matching then not increment and if not match then increment the values."
      ],
      "metadata": {
        "id": "BONaG-cvVSTY"
      }
    },
    {
      "cell_type": "markdown",
      "source": [
        "## Adding in a scoring matrix for different substitutions\n",
        "\n",
        "The above code assumes - unrealistically - that all nucleotide substitutions are about equally common, and so should be scored equally. However, in reality, some types of substitutions are much more common than others in many biological systems. For example, transitions within purine (A or G) or pyrimidine (C or T) nucleotides tend to be much more common than transversions that cross these classes (e.g. A --> T or G --> C). We can capture such differences by building a scoring function for mismatches.\n",
        "\n",
        "Here's an example. We'll start by building a scoring matrix where all the scores are equal, except that transitions are penalized less (let's say -1) than transversions (let's say -2)."
      ],
      "metadata": {
        "id": "8ut9Vs9Ns66F"
      }
    },
    {
      "cell_type": "code",
      "source": [
        "#Build a dict to assign each nucleotide one row or column\n",
        "#index in the table\n",
        "nucleotides = \"AGCT\"\n",
        "\n",
        "#Step through each nucleotide and give it a row and column index\n",
        "#using a dictionary with keys = nucleotides and values = indices\n",
        "nucleotide_indices = {nucleotide:i for i,nucleotide in enumerate(nucleotides)}\n",
        "\n",
        "#Set up scores\n",
        "match_score = 1\n",
        "#We want separate scores for substitutions that are\n",
        "#transitions or transversions\n",
        "transversion_score = -2\n",
        "transition_score = -1\n",
        "\n",
        "# Set up a scoring_matrix for each possible substitution\n",
        "scoring_matrix = full([len(nucleotides),len(nucleotides)],transition_score)\n",
        "\n",
        "#Fill in the scoring matrix based on whether the new vs. old nucleotide are in the\n",
        "#same chemical class (e.g. both purines)\n",
        "chemical_class = {\"A\":\"Purine\",\"T\":\"Pyrimidine\",\"C\":\"Pyrimidine\",\"G\":\"Purine\"}\n",
        "for nt1 in nucleotides:\n",
        "    for nt2 in nucleotides:\n",
        "        #Look up which row/column the\n",
        "        #nucleotides are in\n",
        "        nt1_index = nucleotide_indices[nt1]\n",
        "        nt2_index = nucleotide_indices[nt2]\n",
        "        if nt1 == nt2:\n",
        "            #The nucleotides match\n",
        "            scoring_matrix[nt1_index][nt2_index] = match_score\n",
        "            #We can skip further analysis of this pair...\n",
        "            #We alredy know they match\n",
        "            continue\n",
        "\n",
        "        nt1_chemical_class = chemical_class[nt1]\n",
        "        nt2_chemical_class = chemical_class[nt2]\n",
        "\n",
        "        if nt1_chemical_class == nt2_chemical_class:\n",
        "            #The nucleotides are both pyrimidines or\n",
        "            #both purines so this is a transition\n",
        "            scoring_matrix[nt1_index][nt2_index] = transition_score\n",
        "        else:\n",
        "            #They are in different chemical classes,\n",
        "            #so this change is a transversion\n",
        "            scoring_matrix[nt1_index][nt2_index] = transversion_score\n",
        "\n",
        "\n",
        "#Show the scoring matrix\n",
        "display(pretty_table_from_array(scoring_matrix,\\\n",
        "        row_labels =[n for n in nucleotides],\\\n",
        "        col_labels = [n for n in nucleotides]))"
      ],
      "metadata": {
        "colab": {
          "base_uri": "https://localhost:8080/",
          "height": 175
        },
        "id": "gWezKGzfszXm",
        "outputId": "ec1cf6b5-a312-4a89-ec20-9f3acebc68bb"
      },
      "execution_count": null,
      "outputs": [
        {
          "output_type": "display_data",
          "data": {
            "text/plain": [
              "<IPython.core.display.HTML object>"
            ],
            "text/html": [
              "<table border=\"1\" class=\"dataframe\">\n",
              "  <thead>\n",
              "    <tr style=\"text-align: right;\">\n",
              "      <th></th>\n",
              "      <th>A</th>\n",
              "      <th>G</th>\n",
              "      <th>C</th>\n",
              "      <th>T</th>\n",
              "    </tr>\n",
              "  </thead>\n",
              "  <tbody>\n",
              "    <tr>\n",
              "      <th>A</th>\n",
              "      <td>1</td>\n",
              "      <td>-1</td>\n",
              "      <td>-2</td>\n",
              "      <td>-2</td>\n",
              "    </tr>\n",
              "    <tr>\n",
              "      <th>G</th>\n",
              "      <td>-1</td>\n",
              "      <td>1</td>\n",
              "      <td>-2</td>\n",
              "      <td>-2</td>\n",
              "    </tr>\n",
              "    <tr>\n",
              "      <th>C</th>\n",
              "      <td>-2</td>\n",
              "      <td>-2</td>\n",
              "      <td>1</td>\n",
              "      <td>-1</td>\n",
              "    </tr>\n",
              "    <tr>\n",
              "      <th>T</th>\n",
              "      <td>-2</td>\n",
              "      <td>-2</td>\n",
              "      <td>-1</td>\n",
              "      <td>1</td>\n",
              "    </tr>\n",
              "  </tbody>\n",
              "</table>"
            ]
          },
          "metadata": {}
        }
      ]
    },
    {
      "cell_type": "markdown",
      "source": [
        "\n",
        "This scoring matrix took a little work to put together. We could also have drawn it by hand and just loaded the finished product as a numpy array.\n",
        "\n",
        "\n"
      ],
      "metadata": {
        "id": "GilS-xFas_z8"
      }
    },
    {
      "cell_type": "markdown",
      "source": [
        "#### Integrating our scoring matrix into the code\n",
        "\n",
        "If we are going to look up the scores of matches or mismatches in our table, we'll need a function that can handle looking up a particular match or mismatch in the table. Here's one way we might do that:"
      ],
      "metadata": {
        "id": "xq-NwIA1tF8b"
      }
    },
    {
      "cell_type": "code",
      "source": [
        "def score_match(nt1,nt2,scoring_matrix,\\\n",
        "  scoring_matrix_indices={'A': 0, 'G': 1, 'C': 2, 'T': 3}):\n",
        "    \"\"\"Return the score for a substitution between nt1 and nt2 based on the scoring matrix\n",
        "    nt1 -- a string representing the first nucleotide\n",
        "    nt2 -- a string representing the second nucleotide\n",
        "    scoring_matrix -- an N x N numpy array, where N is\n",
        "      the number of nucleotides (so usually 4x4)\n",
        "    scoring_matrix_indices -- a dict mapping rows and columns\n",
        "      of the scoring array to nucleotides\n",
        "\n",
        "    \"\"\"\n",
        "    return scoring_matrix[scoring_matrix_indices[nt1],scoring_matrix_indices[nt2]]\n"
      ],
      "metadata": {
        "id": "BgiBH5G1s9cw"
      },
      "execution_count": null,
      "outputs": []
    },
    {
      "cell_type": "markdown",
      "source": [
        "We can now use the `score_match` function to look up some values from our scoring matrix. Let's test if an A --> G transition is penalized less severely than an A --> T transversion."
      ],
      "metadata": {
        "id": "j9uzxgkhtMg0"
      }
    },
    {
      "cell_type": "code",
      "source": [
        "AG_score = score_match(\"A\",\"G\",scoring_matrix,nucleotide_indices)\n",
        "AT_score = score_match(\"A\",\"T\",scoring_matrix,nucleotide_indices)\n",
        "print(f\"A --> G score:{AG_score}\")\n",
        "print(f\"A --> T score:{AT_score}\")"
      ],
      "metadata": {
        "colab": {
          "base_uri": "https://localhost:8080/"
        },
        "id": "_XgmxfLUtJtz",
        "outputId": "6b5f9c60-b560-45a8-c701-cf3e7f4769d2"
      },
      "execution_count": null,
      "outputs": [
        {
          "output_type": "stream",
          "name": "stdout",
          "text": [
            "A --> G score:-1\n",
            "A --> T score:-2\n"
          ]
        }
      ]
    },
    {
      "cell_type": "markdown",
      "source": [
        "Success! Our scoring matrix and `score_match` function now let us set different bonuses/penalties for different matches or mismatches between nucleotides. Now we just need to modify our code to ensure that when the Needleman-Wunsch algorithm evaluates a match or mismatch, it uses our function to find the right number."
      ],
      "metadata": {
        "id": "gLJsUgjgtRCE"
      }
    },
    {
      "cell_type": "code",
      "source": [
        "\n",
        "def needleman_wunsch(seq1,seq2, scoring_matrix,\\\n",
        "  scoring_matrix_indices={\"A\":0,\"G\":0,\"G\":0,\"C\":0},\\\n",
        "  scoring_function=score_match, gap_penalty=-1):\n",
        "    \"\"\"Perform Needleman Wunsch global alignment on two sequences\n",
        "    seq1 -- a sequence as a string\n",
        "    seq2 -- a sequence as a string\n",
        "    gap_function -- a function that takes no parameters and returns the score for a gap\n",
        "    scoring_function -- a function that takes two nucleotides and returns a score\n",
        "\n",
        "    \"\"\"\n",
        "    #build an array of zeroes\n",
        "    n_rows = len(seq1) + 1 #need an extra row up top\n",
        "    n_columns = len(seq2) + 1 #need an extra column on the left\n",
        "    scoring_array = full([n_rows,n_columns],0)\n",
        "    traceback_array = full([n_rows,n_columns],\"-\")\n",
        "\n",
        "\n",
        "    #Define Unicode arrows we'll use in the traceback array\n",
        "    up_arrow = \"\\u2191\"\n",
        "    right_arrow = \"\\u2192\"\n",
        "    down_arrow = \"\\u2193\"\n",
        "    left_arrow = \"\\u2190\"\n",
        "    down_right_arrow = \"\\u2198\"\n",
        "    up_left_arrow = \"\\u2196\"\n",
        "\n",
        "    arrow = \"-\"\n",
        "\n",
        "    #iterate over columns first because we want to do\n",
        "    # all the columns for row 1 before row 2\n",
        "    for row in range(n_rows):\n",
        "        for col in range(n_columns):\n",
        "            if row == 0 and col == 0:\n",
        "                #We're in the upper right corner\n",
        "                score = 0\n",
        "            elif row == 0:\n",
        "                #We're on the first row\n",
        "                #but NOT in the corner\n",
        "\n",
        "                #Look up the score of the previous cell (to the left) in the score array\\\n",
        "                previous_score = scoring_array[row,col - 1]\n",
        "                # add the gap penalty to it's score\n",
        "                score = previous_score + gap_penalty\n",
        "            elif col == 0:\n",
        "                #We're on the first column but not in the first row\n",
        "                previous_score = scoring_array[row -1,col]\n",
        "                score = previous_score + gap_penalty\n",
        "            else:\n",
        "                #We're in a 'middle' cell of the alignment\n",
        "\n",
        "                #Calculate the scores for coming from above,\n",
        "                #from the left, (representing an insertion into seq1)\n",
        "                cell_to_the_left = scoring_array[row,col-1]\n",
        "                from_left_score = cell_to_the_left + gap_penalty\n",
        "\n",
        "                #or from above (representing an insertion into seq2)\n",
        "                above_cell = scoring_array[row-1,col]\n",
        "                from_above_score = above_cell + gap_penalty\n",
        "\n",
        "                #diagonal cell, representing a substitution (e.g. A --> T)\n",
        "\n",
        "                diagonal_left_cell = scoring_array[row-1,col-1]\n",
        "\n",
        "                #Since the table has an extra row and column (the blank ones),\n",
        "                #when indexing back to the sequence we want row -1 and col - 1.\n",
        "                #since row 1 represents character 0 of the sequence.\n",
        "                curr_nt_seq1 = seq1[row-1]\n",
        "                curr_nt_seq2 = seq2[col-1]\n",
        "\n",
        "                #the scoring matrix will tell us the score for matches,\n",
        "                #transitions and transversions\n",
        "                diagonal_left_cell_score = diagonal_left_cell + \\\n",
        "                  score_match(curr_nt_seq1,curr_nt_seq2,scoring_matrix)\n",
        "                score = max([from_left_score,from_above_score,diagonal_left_cell_score])\n",
        "                #take the max\n",
        "                #make note of which cell was the max in the traceback array\n",
        "                #using Unicode arrows\n",
        "                if score == from_left_score:\n",
        "                    arrow = left_arrow\n",
        "                elif score == from_above_score:\n",
        "                    arrow = up_arrow\n",
        "                elif score == diagonal_left_cell_score:\n",
        "                    arrow = up_left_arrow\n",
        "\n",
        "            traceback_array[row,col]=arrow\n",
        "            scoring_array[row,col] = score\n",
        "    return scoring_array,traceback_array\n",
        "\n",
        "\n",
        "scoring_array,traceback_array = needleman_wunsch(seq1,seq2,scoring_matrix)\n",
        "display(pretty_table_from_array(scoring_array,row_labels,column_labels))\n",
        "display(pretty_table_from_array(traceback_array,row_labels,column_labels))\n"
      ],
      "metadata": {
        "colab": {
          "base_uri": "https://localhost:8080/",
          "height": 583
        },
        "id": "I1J_e40stOfa",
        "outputId": "aab39155-351a-4217-d119-f733ee581136"
      },
      "execution_count": null,
      "outputs": [
        {
          "output_type": "display_data",
          "data": {
            "text/plain": [
              "<IPython.core.display.HTML object>"
            ],
            "text/html": [
              "<table border=\"1\" class=\"dataframe\">\n",
              "  <thead>\n",
              "    <tr style=\"text-align: right;\">\n",
              "      <th></th>\n",
              "      <th>-</th>\n",
              "      <th>G</th>\n",
              "      <th>A</th>\n",
              "      <th>T</th>\n",
              "      <th>A</th>\n",
              "      <th>C</th>\n",
              "      <th>C</th>\n",
              "      <th>A</th>\n",
              "    </tr>\n",
              "  </thead>\n",
              "  <tbody>\n",
              "    <tr>\n",
              "      <th>-</th>\n",
              "      <td>0</td>\n",
              "      <td>-1</td>\n",
              "      <td>-2</td>\n",
              "      <td>-3</td>\n",
              "      <td>-4</td>\n",
              "      <td>-5</td>\n",
              "      <td>-6</td>\n",
              "      <td>-7</td>\n",
              "    </tr>\n",
              "    <tr>\n",
              "      <th>G</th>\n",
              "      <td>-1</td>\n",
              "      <td>1</td>\n",
              "      <td>0</td>\n",
              "      <td>-1</td>\n",
              "      <td>-2</td>\n",
              "      <td>-3</td>\n",
              "      <td>-4</td>\n",
              "      <td>-5</td>\n",
              "    </tr>\n",
              "    <tr>\n",
              "      <th>C</th>\n",
              "      <td>-2</td>\n",
              "      <td>0</td>\n",
              "      <td>-1</td>\n",
              "      <td>-1</td>\n",
              "      <td>-2</td>\n",
              "      <td>-1</td>\n",
              "      <td>-2</td>\n",
              "      <td>-3</td>\n",
              "    </tr>\n",
              "    <tr>\n",
              "      <th>A</th>\n",
              "      <td>-3</td>\n",
              "      <td>-1</td>\n",
              "      <td>1</td>\n",
              "      <td>0</td>\n",
              "      <td>0</td>\n",
              "      <td>-1</td>\n",
              "      <td>-2</td>\n",
              "      <td>-1</td>\n",
              "    </tr>\n",
              "    <tr>\n",
              "      <th>T</th>\n",
              "      <td>-4</td>\n",
              "      <td>-2</td>\n",
              "      <td>0</td>\n",
              "      <td>2</td>\n",
              "      <td>1</td>\n",
              "      <td>0</td>\n",
              "      <td>-1</td>\n",
              "      <td>-2</td>\n",
              "    </tr>\n",
              "    <tr>\n",
              "      <th>G</th>\n",
              "      <td>-5</td>\n",
              "      <td>-3</td>\n",
              "      <td>-1</td>\n",
              "      <td>1</td>\n",
              "      <td>1</td>\n",
              "      <td>0</td>\n",
              "      <td>-1</td>\n",
              "      <td>-2</td>\n",
              "    </tr>\n",
              "    <tr>\n",
              "      <th>C</th>\n",
              "      <td>-6</td>\n",
              "      <td>-4</td>\n",
              "      <td>-2</td>\n",
              "      <td>0</td>\n",
              "      <td>0</td>\n",
              "      <td>2</td>\n",
              "      <td>1</td>\n",
              "      <td>0</td>\n",
              "    </tr>\n",
              "    <tr>\n",
              "      <th>T</th>\n",
              "      <td>-7</td>\n",
              "      <td>-5</td>\n",
              "      <td>-3</td>\n",
              "      <td>-1</td>\n",
              "      <td>-1</td>\n",
              "      <td>1</td>\n",
              "      <td>1</td>\n",
              "      <td>0</td>\n",
              "    </tr>\n",
              "  </tbody>\n",
              "</table>"
            ]
          },
          "metadata": {}
        },
        {
          "output_type": "display_data",
          "data": {
            "text/plain": [
              "<IPython.core.display.HTML object>"
            ],
            "text/html": [
              "<table border=\"1\" class=\"dataframe\">\n",
              "  <thead>\n",
              "    <tr style=\"text-align: right;\">\n",
              "      <th></th>\n",
              "      <th>-</th>\n",
              "      <th>G</th>\n",
              "      <th>A</th>\n",
              "      <th>T</th>\n",
              "      <th>A</th>\n",
              "      <th>C</th>\n",
              "      <th>C</th>\n",
              "      <th>A</th>\n",
              "    </tr>\n",
              "  </thead>\n",
              "  <tbody>\n",
              "    <tr>\n",
              "      <th>-</th>\n",
              "      <td>-</td>\n",
              "      <td>-</td>\n",
              "      <td>-</td>\n",
              "      <td>-</td>\n",
              "      <td>-</td>\n",
              "      <td>-</td>\n",
              "      <td>-</td>\n",
              "      <td>-</td>\n",
              "    </tr>\n",
              "    <tr>\n",
              "      <th>G</th>\n",
              "      <td>-</td>\n",
              "      <td>↖</td>\n",
              "      <td>←</td>\n",
              "      <td>←</td>\n",
              "      <td>←</td>\n",
              "      <td>←</td>\n",
              "      <td>←</td>\n",
              "      <td>←</td>\n",
              "    </tr>\n",
              "    <tr>\n",
              "      <th>C</th>\n",
              "      <td>←</td>\n",
              "      <td>↑</td>\n",
              "      <td>←</td>\n",
              "      <td>↖</td>\n",
              "      <td>←</td>\n",
              "      <td>↖</td>\n",
              "      <td>←</td>\n",
              "      <td>←</td>\n",
              "    </tr>\n",
              "    <tr>\n",
              "      <th>A</th>\n",
              "      <td>←</td>\n",
              "      <td>↑</td>\n",
              "      <td>↖</td>\n",
              "      <td>←</td>\n",
              "      <td>↖</td>\n",
              "      <td>←</td>\n",
              "      <td>←</td>\n",
              "      <td>↖</td>\n",
              "    </tr>\n",
              "    <tr>\n",
              "      <th>T</th>\n",
              "      <td>↖</td>\n",
              "      <td>↑</td>\n",
              "      <td>↑</td>\n",
              "      <td>↖</td>\n",
              "      <td>←</td>\n",
              "      <td>←</td>\n",
              "      <td>←</td>\n",
              "      <td>←</td>\n",
              "    </tr>\n",
              "    <tr>\n",
              "      <th>G</th>\n",
              "      <td>←</td>\n",
              "      <td>↑</td>\n",
              "      <td>↑</td>\n",
              "      <td>↑</td>\n",
              "      <td>↖</td>\n",
              "      <td>←</td>\n",
              "      <td>←</td>\n",
              "      <td>←</td>\n",
              "    </tr>\n",
              "    <tr>\n",
              "      <th>C</th>\n",
              "      <td>←</td>\n",
              "      <td>↑</td>\n",
              "      <td>↑</td>\n",
              "      <td>↑</td>\n",
              "      <td>↑</td>\n",
              "      <td>↖</td>\n",
              "      <td>←</td>\n",
              "      <td>←</td>\n",
              "    </tr>\n",
              "    <tr>\n",
              "      <th>T</th>\n",
              "      <td>←</td>\n",
              "      <td>↑</td>\n",
              "      <td>↑</td>\n",
              "      <td>↑</td>\n",
              "      <td>↑</td>\n",
              "      <td>↑</td>\n",
              "      <td>↖</td>\n",
              "      <td>←</td>\n",
              "    </tr>\n",
              "  </tbody>\n",
              "</table>"
            ]
          },
          "metadata": {}
        }
      ]
    },
    {
      "cell_type": "markdown",
      "source": [
        "Now that we have a new traceback matrix, we can reuse our code for tracing back through that matrix to generate a new alignment of our sequences using our updated scoring scheme that takes into account transitions and transversions:"
      ],
      "metadata": {
        "id": "h6Sm7Jg_tWHh"
      }
    },
    {
      "cell_type": "code",
      "source": [
        "traceback_alignment(traceback_array,seq1,seq2)"
      ],
      "metadata": {
        "colab": {
          "base_uri": "https://localhost:8080/"
        },
        "id": "kM_t6iLrtT5s",
        "outputId": "3ce917b2-e65b-4ae1-d9b6-7ea6d759679e"
      },
      "execution_count": null,
      "outputs": [
        {
          "output_type": "stream",
          "name": "stdout",
          "text": [
            "Currently on row: 7\n",
            "Currently on col: 7\n",
            "Arrow: ←\n",
            "Insert indel into left sequence\n",
            "-\n",
            " \n",
            "A\n",
            "Currently on row: 7\n",
            "Currently on col: 6\n",
            "Arrow: ↖\n",
            "match or mismatch\n",
            "T-\n",
            "  \n",
            "CA\n",
            "Currently on row: 6\n",
            "Currently on col: 5\n",
            "Arrow: ↖\n",
            "match or mismatch\n",
            "CT-\n",
            "|  \n",
            "CCA\n",
            "Currently on row: 5\n",
            "Currently on col: 4\n",
            "Arrow: ↖\n",
            "match or mismatch\n",
            "GCT-\n",
            " |  \n",
            "ACCA\n",
            "Currently on row: 4\n",
            "Currently on col: 3\n",
            "Arrow: ↖\n",
            "match or mismatch\n",
            "TGCT-\n",
            "| |  \n",
            "TACCA\n",
            "Currently on row: 3\n",
            "Currently on col: 2\n",
            "Arrow: ↖\n",
            "match or mismatch\n",
            "ATGCT-\n",
            "|| |  \n",
            "ATACCA\n",
            "Currently on row: 2\n",
            "Currently on col: 1\n",
            "Arrow: ↑\n",
            "insert indel into top sequence\n",
            "CATGCT-\n",
            " || |  \n",
            "-ATACCA\n",
            "Currently on row: 1\n",
            "Currently on col: 1\n",
            "Arrow: ↖\n",
            "match or mismatch\n",
            "GCATGCT-\n",
            "| || |  \n",
            "G-ATACCA\n",
            "Currently on row: 0\n",
            "Currently on col: 0\n",
            "Arrow: -\n"
          ]
        },
        {
          "output_type": "execute_result",
          "data": {
            "text/plain": [
              "('GCATGCT-', 'G-ATACCA')"
            ]
          },
          "metadata": {},
          "execution_count": 42
        }
      ]
    },
    {
      "cell_type": "markdown",
      "source": [
        "Here, we are checking the strings using traceback alignment Currently on row: 7\n",
        "and on col: 7 and an Arrow: ←,Insert indel into left sequence, here we are starting to checking string from left corner with 7th corner and 7th rows where every time checking whether its matched or not with the string.\n",
        "\n",
        "In conclude, we are checking back the  string into matrix using traceback alignment or checking the optimal alignment based on highest score where we are getting the highest score."
      ],
      "metadata": {
        "id": "x85YgtKbamsd"
      }
    },
    {
      "cell_type": "markdown",
      "source": [
        "##Task -5 (20 points)\n",
        "##How does the Needleman-Wunsch algorithm handle gaps and mismatches between two sequences of text? Provide an example to illustrate your answer."
      ],
      "metadata": {
        "id": "LYWyXOETtiVV"
      }
    },
    {
      "cell_type": "markdown",
      "source": [
        "##Answer here\n",
        "**Needleman-Wunsch algorithm :** This algorithm is used to for any two string.this guide will use two small DNA sequences.\n",
        "\n",
        "This algorithm is dividing large problems into number of small parts to find the optimal solutions to the larger problem.It is also known as optimal matching algorithm and global alignment techniques.\n",
        "\n",
        "The needleman-wunsch algorithm is dynamic programming algorithm that is use to align two sequences of text into bioinformatic.Its comman use to compare two DNA or protein sequences to determine their similarity and differences.\n",
        "\n",
        "The algorithm assign a score to each alignment of each sequences based on a scoring matrix that penalize gaps and mismatched.\n",
        "In short points are calculated  by repeating filling a score matrix, where each row and columns cell of the matrix represent an alignment of two characters in the sequences. here for handling mismatches, the algorithm use a score matrix that assign a penalty to each mismatched characters.\n",
        "\n",
        "For Instace, if we want to align the two sequences \"AGCCTAG\" and \"ACCCTCG\". We are useing a simple scoring matrix that assigns a penalty of -1 for a mismatch and -2 for a gap."
      ],
      "metadata": {
        "id": "JHTDcg72xaK6"
      }
    },
    {
      "cell_type": "code",
      "source": [
        "seq1 = \"AGCCTAG\"\n",
        "seq2 = \"ACCCTCG\"\n",
        "gap_penalty = -2\n",
        "mismatch_penalty = -1\n",
        "\n",
        "# initialize the score matrix\n",
        "score_matrix = [[0] * (len(seq2) + 1) for _ in range(len(seq1) + 1)]\n",
        "for i in range(1, len(seq1) + 1):\n",
        "    score_matrix[i][0] = gap_penalty * i\n",
        "for j in range(1, len(seq2) + 1):\n",
        "    score_matrix[0][j] = gap_penalty * j\n",
        "\n",
        "# fill in the score matrix\n",
        "for i in range(1, len(seq1) + 1):\n",
        "    for j in range(1, len(seq2) + 1):\n",
        "        match_score = 1 if seq1[i-1] == seq2[j-1] else mismatch_penalty\n",
        "        diagonal_score = score_matrix[i-1][j-1] + match_score\n",
        "        up_score = score_matrix[i-1][j] + gap_penalty\n",
        "        left_score = score_matrix[i][j-1] + gap_penalty\n",
        "        score_matrix[i][j] = max(diagonal_score, up_score, left_score)\n",
        "\n",
        "# traceback to find the alignment\n",
        "align1 = \"\"\n",
        "align2 = \"\"\n",
        "i, j = len(seq1), len(seq2)\n",
        "while i > 0 or j > 0:\n",
        "    if i > 0 and j > 0 and score_matrix[i][j] == score_matrix[i-1][j-1] + (1 if seq1[i-1] == seq2[j-1] else mismatch_penalty):\n",
        "        align1 = seq1[i-1] + align1\n",
        "        align2 = seq2[j-1] + align2\n",
        "        i -= 1\n",
        "        j -= 1\n",
        "    elif i > 0 and score_matrix[i][j] == score_matrix[i-1][j] + gap_penalty:\n",
        "        align1 = seq1[i-1] + align1\n",
        "        align2 = \"-\" + align2\n",
        "        i -= 1\n",
        "    else:\n",
        "        align1 = \"-\" + align1\n",
        "        align2 = seq2[j-1] + align2\n",
        "        j -= 1\n",
        "\n",
        "# print the alignment and score\n",
        "print(\"Alignment:\")\n",
        "print(align1)\n",
        "print(align2)\n",
        "print(\"Score:\", score_matrix[-1][-1])\n",
        "print(\"Number of gaps:\", align1.count(\"-\") + align2.count(\"-\"))\n",
        "print(\"Number of mismatches:\", sum([1 for c1, c2 in zip(align1, align2) if c1 != \"-\" and c2 != \"-\" and c1 != c2]))\n"
      ],
      "metadata": {
        "colab": {
          "base_uri": "https://localhost:8080/"
        },
        "id": "6dgNmGZ8SX-C",
        "outputId": "791fd134-c5b4-4ce0-f6e8-49a143e19fe2"
      },
      "execution_count": null,
      "outputs": [
        {
          "output_type": "stream",
          "name": "stdout",
          "text": [
            "Alignment:\n",
            "AGCCTAG\n",
            "ACCCTCG\n",
            "Score: 3\n",
            "Number of gaps: 0\n",
            "Number of mismatches: 2\n"
          ]
        }
      ]
    },
    {
      "cell_type": "markdown",
      "source": [
        "Here, we are calculating the score matrix with gaps and mismatches for sequences.\n",
        "Fisrt we are assigning the two sequences and assign penalty for gaps = -2 and for mismatched penalty= -1.\n",
        "Now, we are initialize the score matrix for gap penalty as well as mismatched penalty.Now we are providing the alignment for gaps and mismatched with two sequences.\n",
        "at the last printing the alignments, First we print two sequences and printing the score matrix values as well as printing the number of gaps which is 0,and printing the number of mismatches are 2.\n",
        "\n",
        "In conclusion, we are here checking the alignment gaps and mismatched characters with socring matrix."
      ],
      "metadata": {
        "id": "OSCvhJmkWvvX"
      }
    },
    {
      "cell_type": "markdown",
      "source": [
        "##Tutorial - 5\n",
        "The Smith-Waterman algorithm is a dynamic programming algorithm commonly used in bioinformatics for local sequence alignment. In the context of natural language processing (NLP), the algorithm can be used for finding the similarity between two sequences of text.\n",
        "\n",
        "Given two sequences of text, the algorithm calculates the best local alignment between the sequences by assigning scores to different matching and mismatching pairs of characters. The algorithm starts by creating a matrix, where each cell represents the score of the best alignment ending at that position in the two sequences.\n",
        "\n",
        "The algorithm proceeds by filling in the matrix one row at a time, starting from the top left corner. At each position, the algorithm calculates the score of the best alignment ending at that position by considering the scores of the adjacent positions in the matrix. The algorithm also keeps track of the position that gives the maximum score in the matrix.\n",
        "\n",
        "Once the matrix is filled, the algorithm traces back the path that gives the maximum score to find the actual alignment between the two sequences. The resulting alignment shows the matching and mismatching characters in the two sequences and can be used to calculate the similarity between the sequences.\n",
        "\n",
        "The Smith-Waterman algorithm can be useful in NLP applications such as text similarity, plagiarism detection, and information retrieval. It can also be adapted to handle different types of matching and mismatching criteria, such as considering semantic similarity instead of character-based matching.\n",
        "\n"
      ],
      "metadata": {
        "id": "eLTaf2iyxhJy"
      }
    },
    {
      "cell_type": "markdown",
      "source": [
        "##Task -6 (20 points)\n",
        "##Implement the smith waterman algorithm and  explain how it works"
      ],
      "metadata": {
        "id": "StnVPfChyUFG"
      }
    },
    {
      "cell_type": "code",
      "source": [
        "def smith_waterman(seq1, seq2, matchingscore=2, mismatchedscore=-1, gapspenalty=-1):\n",
        "    # creating the scoring matrix\n",
        "    n, m = len(seq1), len(seq2)\n",
        "    H = [[0 for j in range(m+1)] for i in range(n+1)]\n",
        "\n",
        "    # her we are filling the scoring matrix\n",
        "    maximum_score = 0\n",
        "    max_i, max_j = 0, 0\n",
        "    for i in range(1, n+1):\n",
        "        for j in range(1, m+1):\n",
        "            match = H[i-1][j-1] + (matchingscore if seq1[i-1] == seq2[j-1] else mismatchedscore)\n",
        "            delete = H[i-1][j] + gapspenalty\n",
        "            insert = H[i][j-1] + gapspenalty\n",
        "            H[i][j] = max(0, match, delete, insert)\n",
        "            if H[i][j] > maximum_score:\n",
        "                maximum_score = H[i][j]\n",
        "                max_i, max_j = i, j\n",
        "\n",
        "    #we are checking back using traceback to find the alignment\n",
        "    align1, align2 = '', ''\n",
        "    i, j = max_i, max_j\n",
        "    while H[i][j] > 0:\n",
        "        if H[i][j] == H[i-1][j-1] + (matchingscore if seq1[i-1] == seq2[j-1] else mismatchedscore):\n",
        "            align1 = seq1[i-1] + align1\n",
        "            align2 = seq2[j-1] + align2\n",
        "            i -= 1\n",
        "            j -= 1\n",
        "        elif H[i][j] == H[i-1][j] + gapspenalty:\n",
        "            align1 = seq1[i-1] + align1\n",
        "            align2 = '-' + align2\n",
        "            i -= 1\n",
        "        elif H[i][j] == H[i][j-1] + gapspenalty:\n",
        "            align1 = '-' + align1\n",
        "            align2 = seq2[j-1] + align2\n",
        "            j -= 1\n",
        "\n",
        "    return maximum_score, align1, align2\n",
        "seq1 = 'AATTGTC'\n",
        "seq2 = 'CCAGTAGGCT'\n",
        "score, align1, align2 = smith_waterman(seq1, seq2)\n",
        "print(f\"Alignment score: {score}\")\n",
        "print(f\"Sequence 1: {align1}\")\n",
        "print(f\"Sequence 2: {align2}\")\n"
      ],
      "metadata": {
        "colab": {
          "base_uri": "https://localhost:8080/"
        },
        "id": "3rua646uK2zw",
        "outputId": "a0374db0-3f95-4bd8-e894-6604896dd714"
      },
      "execution_count": null,
      "outputs": [
        {
          "output_type": "stream",
          "name": "stdout",
          "text": [
            "Alignment score: 5\n",
            "Sequence 1: AATTGTC\n",
            "Sequence 2: AGTAGGC\n"
          ]
        }
      ]
    },
    {
      "cell_type": "markdown",
      "source": [
        "##Explanation\n",
        "**Smith-waterman algorithm:**\n",
        "The Smith-Waterman algorithm is a dynamic programming algorithm that performs local sequence alignment, which means that it finds the best match between  two sequence within a smaller region of the sequences. It is widely used in bioinformatics for tasks such as identifying similarities between protein or DNA sequences.\n",
        "\n",
        "The algortithm assign a score to each alignment between two sequences. The score is calucate based on score matrix, which assign a value to each possible rest of pair based on their similarity or difference, now the algorithm create matrix for all possible alignments, where each rows and columns intersaction(cell) of the matrix represent the score for the best alignment ending at this position for sequences.\n",
        "\n",
        "**To calculate the score for matrix of each cell:**\n",
        "We are calculating all the gaps and matched and mismatched charcaters using below conditions:\n",
        "A gap penalty while delete operation occured.\n",
        "A gap penalty while insert operation occured.\n",
        "A matched charcater bonus for leftover character.\n",
        "A mismatched penalty for leftover characters.\n",
        "\n",
        "Then algorithm select the highest scoring matrix cell for the starting point for the best alignment, and trace back through the whole matrix to find the path that create the highest score.\n",
        "\n",
        "The most important part of the algorithm is that it allows local alignment, which means that it allows to find alignments within the matrix alignment of the sequences which is not similar globally. This happend because algorithm uses a dynamic programming that allows it to accept the specific features for the sequences being aligned.\n",
        "\n",
        "In conclusion, the smith-waterman algorithm is a most popular for identifying similarity between two sequences, and it use with assign score for alignments between two sequences and also find the best possible alignment through the dynamic programming.\n",
        "\n",
        "**For Instance :**\n",
        "Now focusing on the example above here we are using smith-waterman algorithm for achieving our goal to find the optimal solution for highest score alignment or best highest alignment.\n",
        "\n",
        "**def smith_waterman(seq1, seq2, matchingscore=2, mismatchedscore=-1, gapspenalty=-1)::**\n",
        "this is the main function which is used for doing operations using smith-waterman algorithm where 5 parameters is passed as follows, seq1 as a sequence 1, seq2 as a sequence 2, matchingscore=2 is if matched then its 2, mismatchedscore=-1 if its not matched then its -1 penalty and if its gaps then gapspenalty=-1.\n",
        "after that we create for loop for score matrix where for loop will be executed upto the ranges of the sequences with max_i,max_j.\n",
        "After that we are performing some operations of matched, mismatched and gapspenalty for scoring matrix using for loop with two sequences.at the last we are calculating the max score for max_i,max_j after matched,insert and delete operation.\n",
        "\n",
        "Now based on the score we are finding the maximum score and now we are finding the most highest score based on alignment and we are using traceback for that for checking the optimal alignment of highest score.\n",
        "\n",
        "Now, we are defining the two sequences additionally, we are checking the alignment score using smith-waterman algorithm.\n",
        "\n",
        "On the top of that, now we are printing the alignment as well as score the matrix value. here the two sequences are:\n",
        "\n",
        "seq1 = \"AATTGTC\"\n",
        "seq2 = \"CCAGTAGGCT\"\n",
        "\n",
        "and the final results are,\n",
        "Alignment score: 5\n",
        "Sequence 1: AATTGTC\n",
        "Sequence 2: AGTAGGC\n",
        "\n",
        "In conclude the best highest score matrix for optimal alignment score is 5."
      ],
      "metadata": {
        "id": "hn6JayU83GEy"
      }
    }
  ]
}